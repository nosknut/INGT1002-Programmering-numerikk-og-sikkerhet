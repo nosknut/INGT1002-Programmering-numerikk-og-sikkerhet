{
 "cells": [
  {
   "cell_type": "markdown",
   "id": "9787c3b2",
   "metadata": {},
   "source": [
    "# Plotting\n",
    "\n",
    "**Læringsmål**:\n",
    "\n",
    "* Matplotlib\n",
    "* Numpy\n",
    "* Matematiske funksjoner"
   ]
  },
  {
   "cell_type": "markdown",
   "id": "e4c072e4",
   "metadata": {
    "heading_collapsed": true
   },
   "source": [
    "## Tutorial - Plotting\n",
    "Les gjerne denne før du starter med oppgavene"
   ]
  },
  {
   "cell_type": "markdown",
   "id": "97a14d69",
   "metadata": {
    "hidden": true
   },
   "source": [
    "For å tegne grafer er vi nødt til å bruke ekstrafunksjoner som er utenfor \"standard python\". Disse funksjonene er lagret i såkalte *bibliotek*, som er kode andre har laget og som vi kan bruke. Biblioteket vi skal bruke for å plotte grafer heter `matplotlib`.\n",
    "\n",
    "Ofte er det ikke nødvendig å vite alt om hvordan et bibliotek fungerer, men heller hvordan man bruker det. Dette kan man finne ut av ved for eksempel å google eksempler på bruk (tutorials) eller lese dokumentasjonen for biblioteket. Den offisielle oversikten over matplotlib (fra de som har laget det) ligger for eksempel [her](https://matplotlib.org/3.5.2/users/index.html). Denne inneholder informasjon om alt det er mulig å bruke matplotlib til (som er veldig mye!) og trengs ikke å leses for å kunne følge med videre i dette dokumentet.\n",
    "\n",
    "## Importering av matplotlib\n",
    "\n",
    "For å kunne bruke biblioteket `matplotlib` må vi først *importere* det. I vårt tilfelle trenger vi ikke å importere hele matplotlib, men bare delen `pyplot` som er den delen som lar oss tegne grafer. Denne importerer vi i koden under og kaller for `plt`. Dette gjør at vi senere kun trenger å skrive `plt` i stedet for `matplotlib.pyplot`."
   ]
  },
  {
   "cell_type": "code",
   "execution_count": null,
   "id": "feadbae8",
   "metadata": {
    "hidden": true
   },
   "outputs": [],
   "source": [
    "import matplotlib.pyplot as plt\n",
    "%matplotlib inline"
   ]
  },
  {
   "cell_type": "markdown",
   "id": "8bb01543",
   "metadata": {
    "hidden": true
   },
   "source": [
    "`%matplotlib inline` gjør at grafene vises direkte i dokumentet. Uten denne vil du ikke kunne se grafene.\n",
    "\n",
    "## Nå: La oss tegne noen grafer! :D\n",
    "Under ser du et eksempel på en enkel kode som tegner en graf. Dette eksempelet består av tre kodelinjer som alle bruker `pyplot` fra `matplotlib`-biblioteket (som vi har døpt om til `plt`)\n",
    "\n",
    "- Funksjonen `plt.plot` tar inn en liste med verdier som blir y-verdiene i grafen.\n",
    "- Funksjonen `plt.ylabel` brukes for å sette teksten som skal være på y-aksen.\n",
    "- Funksjonen `plt.show` brukes for å vise grafen\n",
    "\n",
    "**Kjør koden under og se hva som skjer!**. Lek deg med å endre verdiene og kjøre koden på nytt :)"
   ]
  },
  {
   "cell_type": "code",
   "execution_count": null,
   "id": "6ab8d0b9",
   "metadata": {
    "hidden": true
   },
   "outputs": [],
   "source": [
    "import matplotlib.pyplot as plt\n",
    "import numpy as np\n",
    "\n",
    "%matplotlib inline\n",
    "\n",
    "plt.plot(np.array([1, 2, 4, 3]))\n",
    "plt.ylabel('Noen tall')\n",
    "plt.show()"
   ]
  },
  {
   "cell_type": "markdown",
   "id": "44b44af9",
   "metadata": {
    "hidden": true
   },
   "source": [
    "Det verdt å merke seg at listen som plt.plot tar inn også kan være en variabel. Dette er gjort i eksemepelet under. Her er listen lagret i en variabel `x`, som så brukes for plotting.\n",
    "\n",
    "**Kjør koden under og se om du forstår hvordan den fungerer**"
   ]
  },
  {
   "cell_type": "code",
   "execution_count": null,
   "id": "f2b82228",
   "metadata": {
    "hidden": true
   },
   "outputs": [],
   "source": [
    "import matplotlib.pyplot as plt\n",
    "import numpy as np\n",
    "%matplotlib inline\n",
    "\n",
    "x = np.array([0, 1, 2, 3, 4, 5, 6, 7, 8, 9, 10, 11, 12, 13, 14, 15])\n",
    "\n",
    "plt.plot(x)\n",
    "plt.ylabel('Tall')\n",
    "plt.show()"
   ]
  },
  {
   "cell_type": "markdown",
   "id": "ec8d2ede",
   "metadata": {
    "hidden": true
   },
   "source": [
    "Det virker kanskje som om `plt.plot` ikke er så nyttig, siden alle punktene kun har 1 mellom seg på x-aksen. Dette er feil. Funksjonen har faktisk et hav av muligheter! Vi kan for eksempel spesifisere punkter både på x-aksen og y-aksen ved å gi inn to lister til funksjonen.\n",
    "\n",
    "**Kjør koden under og prøv å endre verdiene for å se hva som skjer!** Prøv gjerne også å se hva som skjer hvis man har x-verdier som ikke er i stigende rekkefølge som nå."
   ]
  },
  {
   "cell_type": "code",
   "execution_count": null,
   "id": "d088efc5",
   "metadata": {
    "hidden": true
   },
   "outputs": [],
   "source": [
    "import matplotlib.pyplot as plt\n",
    "import numpy as np \n",
    "%matplotlib inline\n",
    "\n",
    "x_verdier = np.array([2, 4, 8, 16])\n",
    "y_verdier = np.array([2, 4, 6, 8])\n",
    "plt.plot(x_verdier, y_verdier)\n",
    "plt.show()"
   ]
  },
  {
   "cell_type": "markdown",
   "id": "47ed3e98",
   "metadata": {
    "hidden": true
   },
   "source": [
    "Så langt har vi ikke plottet det man vanligvis tenker på funksjoner, for eksempel $f(x) = 2x + 2$. Vi har kun laget våre egne verdier og plottet de, istedenfor å få verdiene fra en slik funksjon. La oss lage funksjonen vår:"
   ]
  },
  {
   "cell_type": "code",
   "execution_count": null,
   "id": "1a2b4a5f",
   "metadata": {
    "hidden": true
   },
   "outputs": [],
   "source": [
    "def f(x):\n",
    "    return x**2"
   ]
  },
  {
   "cell_type": "markdown",
   "id": "d80d52c8",
   "metadata": {
    "hidden": true
   },
   "source": [
    "Når vi så har funksjonen vår, trenger vi x-verdier. I kodeblokkene over har vi skrevet x-verdiene våre manuelt. Dette er ikke alltid like lett, dersom vi skal ha mange x-verdier. Heldigvis finnes det en funksjon i **numpy**-biblioteket som gjør dette for oss! `np.linspace(start, stop, num)` tar inn parameterene `start`, `stop` og antall intervaller `num`. Den gir deg et array med `num` antall jevnt fordelte verdier mellom `start` og `stopp`. Dette kan vi bruke for å lage x-verdiene våre, samt plotte funksjonen $f(x) = 2x + 2$ i et gitt x-intervall. Etter vi har laget oss disse x-verdiene, kan vi lage y-verdier som er x-verdiene kjørt igjennom funksjonen `f(x)`. Deretter kan vi plotte resultatet.\n",
    "\n",
    "**Kjør koden nedenfor og se hva som skjer!**. Prøv også å endre både `f(x)` over, `start`, `stop` og `intervaller` for å se hvordan grafen endrer seg. Legg spesielt merke til hvordan grafen blir \"hakkete\" jo mindre `intervaller` vi har."
   ]
  },
  {
   "cell_type": "code",
   "execution_count": null,
   "id": "9d84dca4",
   "metadata": {
    "hidden": true
   },
   "outputs": [],
   "source": [
    "import matplotlib.pyplot as plt\n",
    "import numpy as np\n",
    "%matplotlib inline\n",
    "\n",
    "start = -10\n",
    "stop = 10\n",
    "intervaller = 5\n",
    "\n",
    "x_verdier = np.linspace(start, stop, intervaller)\n",
    "y_verdier = f(x_verdier) # Her kjører vi alle x-verdiene våre gjennom funksjonen f(x)\n",
    "\n",
    "plt.plot(x_verdier, y_verdier)\n",
    "plt.show()"
   ]
  },
  {
   "cell_type": "code",
   "execution_count": null,
   "id": "cd11edbb",
   "metadata": {
    "hidden": true
   },
   "outputs": [],
   "source": [
    "# Lek deg mer med np.linspace her\n",
    "import numpy as np\n",
    "\n",
    "start = -10\n",
    "stop = 10\n",
    "intervaller = 5\n",
    "print(np.linspace(start, stop, intervaller))"
   ]
  },
  {
   "cell_type": "markdown",
   "id": "4342043a",
   "metadata": {
    "hidden": true
   },
   "source": [
    "Det er også mulig å lage punkter i stedet for linjer. Her må det legges med en streng i et spesielt format til `plt.plot`. I eksempelet under betyr strengen `\"ro\"` at vi bruker røde prikker. `r` for *red*, `o` for *runding*.\n",
    "\n",
    "**Kjør koden under og se hva som skjer!** Prøv også å bytte ut `'ro'` med andre strenger, som `'g-'`, `'b^'`, `'r--'`, `'k:`' og `'ys'`"
   ]
  },
  {
   "cell_type": "code",
   "execution_count": null,
   "id": "393bdc76",
   "metadata": {
    "hidden": true
   },
   "outputs": [],
   "source": [
    "import matplotlib.pyplot as plt\n",
    "import numpy as np\n",
    "%matplotlib inline\n",
    "\n",
    "plt.plot(np.array([1, 2, 3, 4]), np.array([1, 4, 9, 16]), 'ro')\n",
    "plt.show()"
   ]
  },
  {
   "cell_type": "markdown",
   "id": "7d89ea5e",
   "metadata": {
    "hidden": true
   },
   "source": [
    "Dette gjør at vi også kan plotte flere grafer oppå hverandre og skille mellom de, som i eksempelet under:"
   ]
  },
  {
   "cell_type": "code",
   "execution_count": null,
   "id": "e83ec416",
   "metadata": {
    "hidden": true,
    "scrolled": true
   },
   "outputs": [],
   "source": [
    "import matplotlib.pyplot as plt\n",
    "%matplotlib inline\n",
    "\n",
    "plt.plot(np.array([0, 1, 2, 3, 4, 5]), np.array([0, 1, 2, 3, 4, 5]), 'r-')\n",
    "plt.plot(np.array([0, 1, 2, 3, 4, 5]), np.array([0, 1, 4, 9, 16, 25]), 'b-')\n",
    "plt.show()"
   ]
  },
  {
   "cell_type": "markdown",
   "id": "c40397e5",
   "metadata": {
    "heading_collapsed": true
   },
   "source": [
    "## Oppgave a: frivillig"
   ]
  },
  {
   "cell_type": "markdown",
   "id": "8417ae82",
   "metadata": {
    "hidden": true
   },
   "source": [
    "Det du skal gjøre i denne oppgaven er å lage tre funksjoner:\n",
    "* $f(x) = x^2 - 3x + 2$\n",
    "* $g(x) = 3\\sin(x)$\n",
    "* $h(x) = \\frac{42x}{x^2+4}$ \n",
    "\n",
    "i Python, og plotte disse i _samme_ plot. Bruk de oppgitte x-verdiene. Husk å importere **matplotlib** :)\n",
    "\n",
    "***Skriv koden din i kodeblokken under***"
   ]
  },
  {
   "cell_type": "code",
   "execution_count": null,
   "id": "05d31b50",
   "metadata": {
    "hidden": true
   },
   "outputs": [],
   "source": [
    "# Skriv koden din her\n",
    "import numpy as np\n",
    "\n",
    "x_verdier = np.array([-3, -1, 1, 3, 5])"
   ]
  },
  {
   "cell_type": "markdown",
   "id": "976e8f5a",
   "metadata": {
    "heading_collapsed": true
   },
   "source": [
    "## Oppgave b: frivillig"
   ]
  },
  {
   "cell_type": "markdown",
   "id": "0d17f277",
   "metadata": {
    "hidden": true
   },
   "source": [
    "Ser du at plottene i oppgave **a)** er \"hakkete\"? I denne oppgaven skal du fikse opp i det. Bruk de samme funksjonene som du lagde i oppgave **a)**, men denne gangen, skriv om koden slik at plottene blir \"smoothere\". \n",
    "\n",
    "***Skriv koden din i kodeblokken nedenfor***"
   ]
  },
  {
   "cell_type": "code",
   "execution_count": null,
   "id": "ce9f7a57",
   "metadata": {
    "hidden": true
   },
   "outputs": [],
   "source": [
    "# Kopier over koden din fra a) her, og gjør endringer"
   ]
  },
  {
   "cell_type": "markdown",
   "id": "671da685",
   "metadata": {
    "hidden": true
   },
   "source": [
    "Eksempel på hvordan plottet kan bli:\n",
    "\n",
    "![img](images/o1_plot.png)"
   ]
  },
  {
   "cell_type": "markdown",
   "id": "b43942f3",
   "metadata": {
    "heading_collapsed": true
   },
   "source": [
    "## Oppgave c) Frivillig (vanskelig)"
   ]
  },
  {
   "cell_type": "markdown",
   "id": "44ac5f43",
   "metadata": {
    "hidden": true
   },
   "source": [
    "Denne oppgaven er frivillig og du trenger ikke gjøre den for å få oppgaven godkjent."
   ]
  },
  {
   "cell_type": "markdown",
   "id": "8ddf0d55",
   "metadata": {
    "hidden": true
   },
   "source": [
    "I denne oppgaven skal du gjøre plottet fra **b)** enda penere. \n",
    "\n",
    "Det er frivillig hvordan du gjør plottet penere, noen tips er:\n",
    "\n",
    "* Sett aksene som et \"kors\" i midten av plottet\n",
    "* Legg på merkelapper på grafene, slik av vi kan differensiere mellom f, g og h\n",
    "* Legg til en tittel til plottet\n",
    "* Legg på merkelapper på aksene\n",
    "\n",
    "Vi oppfordrer til å lese [dokumentasjonen til matplotlib](https://matplotlib.org/3.5.2/api/index.html) for å løse denne oppgaven.\n",
    "\n",
    "***Skriv koden din i kodeblokken under***"
   ]
  },
  {
   "cell_type": "code",
   "execution_count": null,
   "id": "a452b2d4",
   "metadata": {
    "hidden": true
   },
   "outputs": [],
   "source": [
    "# Skriv koden din her"
   ]
  },
  {
   "cell_type": "markdown",
   "id": "317588c8",
   "metadata": {
    "hidden": true
   },
   "source": [
    "Et eksempel på hvordan grafen _kan_ se ut vises på bildet under:\n",
    "\n",
    "![img](images/o1_plotting_deloppgave_c.png)"
   ]
  },
  {
   "cell_type": "markdown",
   "id": "08d6c5e8",
   "metadata": {
    "heading_collapsed": true,
    "hidden": true
   },
   "source": [
    "### Hint:"
   ]
  },
  {
   "cell_type": "markdown",
   "id": "7260fe91",
   "metadata": {
    "hidden": true
   },
   "source": [
    "Les deg opp på funksjonen [`plt.figure()`](https://matplotlib.org/stable/api/_as_gen/matplotlib.pyplot.figure.html), [`Axes`](https://matplotlib.org/stable/api/axes_api.html#matplotlib.axes.Axes), [`Figure.gca()`](https://matplotlib.org/stable/api/figure_api.html#matplotlib.figure.Figure.gca) og [`Axes.legend()`](https://matplotlib.org/stable/api/_as_gen/matplotlib.axes.Axes.legend.html)"
   ]
  }
 ],
 "metadata": {
  "kernelspec": {
   "display_name": "Python 3 (ipykernel)",
   "language": "python",
   "name": "python3"
  },
  "language_info": {
   "codemirror_mode": {
    "name": "ipython",
    "version": 3
   },
   "file_extension": ".py",
   "mimetype": "text/x-python",
   "name": "python",
   "nbconvert_exporter": "python",
   "pygments_lexer": "ipython3",
   "version": "3.9.10"
  }
 },
 "nbformat": 4,
 "nbformat_minor": 5
}
