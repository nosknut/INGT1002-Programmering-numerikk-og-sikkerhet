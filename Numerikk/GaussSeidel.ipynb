{
 "cells": [
  {
   "cell_type": "code",
   "execution_count": 2,
   "metadata": {},
   "outputs": [],
   "source": [
    "import numpy as np"
   ]
  },
  {
   "cell_type": "code",
   "execution_count": 171,
   "metadata": {},
   "outputs": [],
   "source": [
    "def gauss_seidel(A, b, x0, tolerance, max_iterations):\n",
    "    \"\"\"\n",
    "    Solves the linear system Ax = b using the Gauss-Seidel method.\n",
    "    \"\"\"\n",
    "    A = np.asfarray(A)\n",
    "    b = np.asfarray(b)\n",
    "    x0 = np.asfarray(x0)\n",
    "    \n",
    "    x = x0.copy()\n",
    "    \n",
    "    diagonally_dominant = True\n",
    "    \n",
    "    for row in range(len(A)):\n",
    "        if abs(A[row][row]) < (sum(abs(A[row])) - abs(A[row][row])):\n",
    "            print(\"Not diagonally dominant and may not converge!\")\n",
    "            diagonally_dominant = False\n",
    "    \n",
    "    iterations = 0\n",
    "    while True:\n",
    "        iterations += 1\n",
    "        xn = x.copy()\n",
    "        \n",
    "        for row in range(len(x)):\n",
    "            nr = A[row].copy()\n",
    "            c = nr[row]\n",
    "            nr[row] = 0\n",
    "            # NB! Remember to sum the row BEFORE using it\n",
    "            # in the rest of the expression or the expression\n",
    "            # will be: A*x = b*len(x) instead of A*x = b\n",
    "            # TODO: Test if using xn here is ok because it requires\n",
    "            # fewer iterations.\n",
    "            xn[row] = (b[row] - sum(nr*x)) /c\n",
    "        \n",
    "        matches_tolerance = True\n",
    "        \n",
    "        for row in range(len(x)):\n",
    "            if abs(b[row] - sum(A[row]*xn)) > tolerance:\n",
    "                \n",
    "                if iterations >= max_iterations:\n",
    "                    return (xn, False, iterations, diagonally_dominant)\n",
    "                \n",
    "                matches_tolerance = False\n",
    "\n",
    "        if not matches_tolerance:\n",
    "            x = xn\n",
    "            continue\n",
    "        \n",
    "        return (xn, True, iterations, diagonally_dominant)"
   ]
  },
  {
   "cell_type": "code",
   "execution_count": 175,
   "metadata": {},
   "outputs": [
    {
     "name": "stdout",
     "output_type": "stream",
     "text": [
      "x: [ 0.80508151  0.32202937 -0.29661413]\n",
      "converges: True\n",
      "iterations: 32\n",
      "diagonally dominant: True\n"
     ]
    }
   ],
   "source": [
    "A = np.array([\n",
    "     [9, 2, 3],\n",
    "     [1, 12, 9],\n",
    "     [4, 6, 14],\n",
    "])\n",
    "\n",
    "b = np.array([7, 2, 1])\n",
    "x0 = np.array([0, 0, 0])\n",
    "x, converges, iterations, diag_dom = gauss_seidel(A, b, x0, 0.0001, 1000)\n",
    "\n",
    "print(\"x:\", x)\n",
    "print(\"converges:\", converges)\n",
    "print(\"iterations:\", iterations)\n",
    "print(\"diagonally dominant:\", diag_dom)"
   ]
  },
  {
   "cell_type": "code",
   "execution_count": null,
   "metadata": {},
   "outputs": [],
   "source": []
  }
 ],
 "metadata": {
  "kernelspec": {
   "display_name": "Python 3",
   "language": "python",
   "name": "python3"
  },
  "language_info": {
   "codemirror_mode": {
    "name": "ipython",
    "version": 3
   },
   "file_extension": ".py",
   "mimetype": "text/x-python",
   "name": "python",
   "nbconvert_exporter": "python",
   "pygments_lexer": "ipython3",
   "version": "3.10.11"
  }
 },
 "nbformat": 4,
 "nbformat_minor": 2
}
