{
 "cells": [
  {
   "cell_type": "markdown",
   "metadata": {},
   "source": [
    "rett: 1a, 1b, 1c[1-4], 1d, 1e, 1f\n",
    "feil: 1c[5]\n",
    "\n",
    "rett: 2a, 2c, 2d, 2e\n",
    "feil: 2b[1-3]\n",
    "\n",
    "rett: 3a[1,3,4], 3b, 3c, 3d\n",
    "feil: 3a[2]"
   ]
  },
  {
   "cell_type": "code",
   "execution_count": 110,
   "metadata": {},
   "outputs": [
    {
     "name": "stdout",
     "output_type": "stream",
     "text": [
      "Score: 80.0% eller 88.1%\n"
     ]
    }
   ],
   "source": [
    "print(f\"Score: {12/15*100:.1f}% eller {(42-5)/42*100:.1f}%\")"
   ]
  },
  {
   "cell_type": "markdown",
   "metadata": {},
   "source": [
    "https://i.ntnu.no/wiki/-/wiki/Norsk/Prosentvurderingsmetoden\n",
    "\n",
    "Karakterskala for prosentvurderingsmetoden\n",
    "\n",
    "- A: 89–100 poeng\n",
    "- B: 77–88 poeng\n",
    "- C: 65–76 poeng\n",
    "- D: 53–64 poeng\n",
    "- E: 41–52 poeng\n",
    "- F: 0–40 poeng"
   ]
  },
  {
   "cell_type": "markdown",
   "metadata": {},
   "source": [
    "# 1"
   ]
  },
  {
   "cell_type": "markdown",
   "metadata": {},
   "source": [
    "## a"
   ]
  },
  {
   "cell_type": "code",
   "execution_count": 95,
   "metadata": {},
   "outputs": [
    {
     "data": {
      "text/plain": [
       "1.9375"
      ]
     },
     "execution_count": 95,
     "metadata": {},
     "output_type": "execute_result"
    }
   ],
   "source": [
    "def geometrisk_rekke(r, n):\n",
    "    summen = 0\n",
    "    for i in range(n + 1):\n",
    "        summen += r**i\n",
    "    return summen\n",
    "\n",
    "geometrisk_rekke(0.5, 4)"
   ]
  },
  {
   "cell_type": "markdown",
   "metadata": {},
   "source": [
    "## b"
   ]
  },
  {
   "cell_type": "code",
   "execution_count": 96,
   "metadata": {},
   "outputs": [
    {
     "name": "stdout",
     "output_type": "stream",
     "text": [
      "18\n",
      "5.0\n"
     ]
    }
   ],
   "source": [
    "a = 9\n",
    "a *= 2\n",
    "print(a)\n",
    "\n",
    "x = 10\n",
    "x /= 2\n",
    "print(x)"
   ]
  },
  {
   "cell_type": "markdown",
   "metadata": {},
   "source": [
    "## c"
   ]
  },
  {
   "cell_type": "code",
   "execution_count": 97,
   "metadata": {},
   "outputs": [
    {
     "name": "stdout",
     "output_type": "stream",
     "text": [
      "5\n",
      "4\n",
      "3\n",
      "3\n",
      "inf\n"
     ]
    }
   ],
   "source": [
    "def f(start, endring, stopp):\n",
    "    x = start\n",
    "    while x >= stopp:\n",
    "        x += endring\n",
    "    return x\n",
    "\n",
    "print(f(5, 2, 6))\n",
    "print(f(4, 2, 5))\n",
    "print(f(3, 2, 5))\n",
    "print(f(3, 1, 5))\n",
    "\n",
    "# never stops running because large numbers become inf\n",
    "# print(f(6, 1, 4))\n",
    "print(1e309)"
   ]
  },
  {
   "cell_type": "markdown",
   "metadata": {},
   "source": [
    "## d"
   ]
  },
  {
   "cell_type": "code",
   "execution_count": 98,
   "metadata": {},
   "outputs": [
    {
     "name": "stdout",
     "output_type": "stream",
     "text": [
      "1\n",
      "2\n",
      "1\n",
      "1\n",
      "0\n"
     ]
    }
   ],
   "source": [
    "def f(x, a, b):\n",
    "    summen = 0\n",
    "    for i in range(a, b):\n",
    "        summen += x[i]\n",
    "    return summen\n",
    "\n",
    "print(f([0, 1, 1, 0, 2], 0, 2))\n",
    "print(f([2, 1, 1, 0, 0], 1, 5))\n",
    "print(f([1, 1, 0, 0, 2], 1, 4))\n",
    "print(f([1, 0, 1, 2, 0], 1, 3))\n",
    "print(f([1, 2, 0, 0, 1], 2, 3))"
   ]
  },
  {
   "cell_type": "markdown",
   "metadata": {},
   "source": [
    "## e"
   ]
  },
  {
   "cell_type": "code",
   "execution_count": 99,
   "metadata": {},
   "outputs": [
    {
     "name": "stdout",
     "output_type": "stream",
     "text": [
      "1\n"
     ]
    }
   ],
   "source": [
    "def endre_liste(liste):\n",
    "    lengde = 2\n",
    "    liste *= lengde\n",
    "    \n",
    "    # missing return statement\n",
    "    return liste\n",
    "    \n",
    "liste = [1, 2, 3]\n",
    "liste = endre_liste(liste)\n",
    "print(liste[0])"
   ]
  },
  {
   "cell_type": "markdown",
   "metadata": {},
   "source": [
    "## f"
   ]
  },
  {
   "cell_type": "code",
   "execution_count": 100,
   "metadata": {},
   "outputs": [
    {
     "name": "stdout",
     "output_type": "stream",
     "text": [
      "21\n",
      "20\n"
     ]
    }
   ],
   "source": [
    "from datetime import date\n",
    "current_date = date.today()\n",
    "    \n",
    "def find_age(b_year, b_month, b_day):\n",
    "    \"\"\"\n",
    "        Returns the number of full years (rounded down) the person has lived\n",
    "    \"\"\"\n",
    "    \n",
    "    year = current_date.year\n",
    "    month = current_date.month\n",
    "    day = current_date.day\n",
    "     \n",
    "    # Logical test: 2000-1990 = 10\n",
    "    years = year - b_year\n",
    "    \n",
    "    # Logical test:\n",
    "    # 1 - 5 = -4 we are 4 months from reaching the year calculated above\n",
    "    months = month - b_month \n",
    "    \n",
    "    # Logical test: 1 - 25 = -24\n",
    "    # We are 24 days from reaching the month calculated above\n",
    "    days = day - b_day \n",
    "    \n",
    "    # days will always be less than the highest number of days in a month\n",
    "    # if it is negative we spill over in the previous month\n",
    "    if days < 0:\n",
    "        months -= 1\n",
    "    \n",
    "    # months will always be less than the highest number of months in a year\n",
    "    # if we have not gotten as far into the current year then have yet to reach\n",
    "    # as many years alive as the calendar and we subtract one to compensate\n",
    "    # we will never be more than a year  behind\n",
    "    if months < 0:\n",
    "        years -= 1\n",
    "    \n",
    "    return years\n",
    "    \n",
    "print(find_age(2002, 1, 1)) # Prints 21\n",
    "print(find_age(2002, 12, 20)) # Prints 20"
   ]
  },
  {
   "cell_type": "markdown",
   "metadata": {},
   "source": [
    "# 2"
   ]
  },
  {
   "cell_type": "markdown",
   "metadata": {},
   "source": [
    "## b"
   ]
  },
  {
   "cell_type": "code",
   "execution_count": 101,
   "metadata": {},
   "outputs": [
    {
     "name": "stdout",
     "output_type": "stream",
     "text": [
      "[ 0.1  1.1 -0.3]\n"
     ]
    }
   ],
   "source": [
    "import numpy as np\n",
    "\n",
    "A = np.array([\n",
    "    [3, 1, -1],\n",
    "    [1, 1, 3],\n",
    "    [2, -3, 1],\n",
    "])\n",
    "\n",
    "x0 = np.array([0, 1, 0])\n",
    "\n",
    "h = 0.1\n",
    "\n",
    "x = x0\n",
    "x = x + h*A@x\n",
    "print(x)"
   ]
  },
  {
   "cell_type": "markdown",
   "metadata": {},
   "source": [
    "# 3"
   ]
  },
  {
   "cell_type": "markdown",
   "metadata": {},
   "source": [
    "## b"
   ]
  },
  {
   "cell_type": "code",
   "execution_count": 102,
   "metadata": {},
   "outputs": [
    {
     "name": "stdout",
     "output_type": "stream",
     "text": [
      "f(1.0) = 0.58618940391)\n"
     ]
    }
   ],
   "source": [
    "import numpy as np\n",
    "a = 0\n",
    "h = 0.1\n",
    "def f(x, y):\n",
    "    return x**2 - y\n",
    "y = np.zeros(11)\n",
    "y[0] = 1\n",
    "xs = [a]\n",
    "ys = [y[0]]\n",
    "for i in range(10):\n",
    "    y[i + 1] = y[i] + h*f(a + i*h, y[i])\n",
    "    xs.append(a + i*h + h)\n",
    "    ys.append(y[i+1])\n",
    "    \n",
    "print(f\"f({xs[-1]}) = {ys[-1]})\")"
   ]
  },
  {
   "cell_type": "markdown",
   "metadata": {},
   "source": [
    "## c"
   ]
  },
  {
   "cell_type": "code",
   "execution_count": 103,
   "metadata": {},
   "outputs": [
    {
     "data": {
      "text/plain": [
       "-4.122582070856484e-09"
      ]
     },
     "execution_count": 103,
     "metadata": {},
     "output_type": "execute_result"
    }
   ],
   "source": [
    "def center_diff(f, x, h):\n",
    "    df = (f(x + h) - f(x - h))/(2*h)\n",
    "    return df\n",
    "\n",
    "def f(x):\n",
    "    return np.exp(-2*x)\n",
    "\n",
    "center_diff(f, 10, 0.01)"
   ]
  },
  {
   "cell_type": "markdown",
   "metadata": {},
   "source": [
    "# d"
   ]
  },
  {
   "cell_type": "code",
   "execution_count": 104,
   "metadata": {},
   "outputs": [
    {
     "name": "stdout",
     "output_type": "stream",
     "text": [
      "9.948462247926798\n"
     ]
    }
   ],
   "source": [
    "h = 0.1\n",
    "N = int(5/h)\n",
    "y_n = 0.0\n",
    "for n in range(N):\n",
    "    dydx = 10-y_n\n",
    "    y_n += h*dydx\n",
    "print(y_n)"
   ]
  }
 ],
 "metadata": {
  "kernelspec": {
   "display_name": "Python 3",
   "language": "python",
   "name": "python3"
  },
  "language_info": {
   "codemirror_mode": {
    "name": "ipython",
    "version": 3
   },
   "file_extension": ".py",
   "mimetype": "text/x-python",
   "name": "python",
   "nbconvert_exporter": "python",
   "pygments_lexer": "ipython3",
   "version": "3.10.11"
  }
 },
 "nbformat": 4,
 "nbformat_minor": 2
}
