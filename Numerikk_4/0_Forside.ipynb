{
 "cells": [
  {
   "cell_type": "markdown",
   "id": "db1ae241",
   "metadata": {},
   "source": [
    "# Numerikk Øving 4\n",
    "\n",
    "Hei, og velkommen til den aller siste øvingen i Numerikk for emnet INGA1002 - Programmering, numerikk og sikkerhet. I denne øvingen skal vi bli bedre kjent med Eulers Metode, og bruke den til løsning av både koblede differensialligninger og andreordens differensialligninger. I tillegg skal vi se på en mye brukt iterativ metode for å løse algebraiske lignigner: Newton's Metode. Nedenfor ser du en oversikt over læringsmål for øvingen, samt informasjon om de forskjellige oppgavene og hva som kreves for å få øvingen godkjent.\n",
    "\n",
    "## Læringsmål:\n",
    "* Oppfriskning i Eulers Metode, og bruk av eulers metode på koblede lignigner i matriseform\n",
    "* Eulers metode for andreordens system, samt tilknytning til praktiske problem.\n",
    "* Hvordan bruke Newtons metode\n",
    "\n",
    "\n",
    "## Godkjenning:\n",
    "\n",
    "- Ved retting kan denne øvingen gi inntil 100 poeng. Kravet for godkjenning av øvingsoppgaven er 60 poeng eller mer.\n",
    "\n",
    "Oppgave | Tema | Poeng\n",
    "--- | --- | ---\n",
    "[Eulers metode for koblede differensialligninger](1_Euler_ligningssett.ipynb)| Inkorporering av matriser i Eulers metode | 20\n",
    "[Dynamikk i konstruksjoner](2_Euler_dynamikk.ipynb)| Eulers metode for andreordens system, oppsett av initialverdier og tolking av resultat| 30\n",
    "[Blandede oppgaver om Newtons Metode](3_Newtons_metode.ipynb) | Bli kjent med Newtons metode| 30\n",
    "[Skrått Kast](4_Skratt_kast.ipynb) | Newtons metode på med en praktisk problemstilling: hvordan treffe blink! | 20"
   ]
  }
 ],
 "metadata": {
  "kernelspec": {
   "display_name": "Python 3 (ipykernel)",
   "language": "python",
   "name": "python3"
  },
  "language_info": {
   "codemirror_mode": {
    "name": "ipython",
    "version": 3
   },
   "file_extension": ".py",
   "mimetype": "text/x-python",
   "name": "python",
   "nbconvert_exporter": "python",
   "pygments_lexer": "ipython3",
   "version": "3.10.8"
  }
 },
 "nbformat": 4,
 "nbformat_minor": 5
}
