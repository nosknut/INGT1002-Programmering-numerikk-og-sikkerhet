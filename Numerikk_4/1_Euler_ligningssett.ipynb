{
 "cells": [
  {
   "cell_type": "markdown",
   "metadata": {},
   "source": [
    "# Oppgave 1: Eulers metode for koblede differensialligninger"
   ]
  },
  {
   "cell_type": "markdown",
   "metadata": {},
   "source": [
    "### Oppsummering eulers metode\n",
    "\n",
    "Som vi lærte om i øving 3, tilbyr Eulers metode en fremgangsmåte for å få en datamaskin til å løse et initialverdiproblem numerisk. Gitt en differensialligning på formen $y' = f(x, y)$ og en initialverdi $y(0) = y(x_0)$, så kan man finne en *tilnærmet verdi* for $y(x)$ etter et kort intervall $h$. Dette gjøres ved å følge den rette linjen som tangerer funksjonen $y(x)$ i $x=0$ helt til vi kommer til $x=h$, hvorpå vi repeterer prossessen. Det hele kan oppsummeres med formelen nedenfor som angir utregningene som skal til for å fullføre *ett steg* i utregningen av $y(t)$\n",
    "\n",
    "\n",
    "$$ y_{n+1} = y_{n} + h\\cdot f(x_n, y_n)$$\n",
    "\n",
    "#### Eksempel:\n",
    "\n",
    "Lag et plot av løsningen til differensialligningen $\\frac{dy(x)}{dx} + y(x) = 0$ gitt en initialverdi $y(0) = 10$ og en skrittlengde $h = 0.1$ for intervallet $0 \\leq x \\leq 5$:\n",
    "\n",
    "1. Finn formelen for eulers metode med utgangspunkt i differensialligningen:\n",
    "$$\n",
    "\\begin{align}\n",
    "y' + y &= 0\\\\\n",
    "y' &= -y = f(x, y)\n",
    "\\end{align}\n",
    "$$\n",
    "\n",
    "$$\n",
    "\\begin{align}\n",
    "y_{n+1} &= y_{n} + h\\cdot f(x_n, y_n)\\\\\n",
    "y_{n+1} &= y_n - h\\cdot y_n\n",
    "\\end{align}\n",
    "$$\n",
    "\n",
    "2. Implementér metoden med Python"
   ]
  },
  {
   "cell_type": "code",
   "execution_count": 2,
   "metadata": {},
   "outputs": [
    {
     "data": {
      "text/plain": [
       "[<matplotlib.lines.Line2D at 0x2485aff2650>]"
      ]
     },
     "execution_count": 2,
     "metadata": {},
     "output_type": "execute_result"
    },
    {
     "data": {
      "image/png": "[encoded data removed]",
      "text/plain": [
       "<Figure size 640x480 with 1 Axes>"
      ]
     },
     "metadata": {},
     "output_type": "display_data"
    }
   ],
   "source": [
    "import numpy as np\n",
    "import matplotlib.pyplot as plt\n",
    "\n",
    "# Parametre for den numeriske utregningen\n",
    "duration = 5 # Antall sekund til slutten av \"simuleringen\"\n",
    "h = 0.1 # Skrittlengde\n",
    "\n",
    "steps = int(duration/h) # Antall iterasjoner\n",
    "\n",
    "# Klargjør arrayene x og y\n",
    "x = np.linspace(0, duration, steps+1)\n",
    "y = np.zeros(steps+1)\n",
    "\n",
    "# Sett initialverdier\n",
    "y[0] = 10\n",
    "\n",
    "# Utfør eulers metode\n",
    "for n in range(steps):\n",
    "    y[n+1] = y[n] - h*y[n]\n",
    "\n",
    "# Laget plot av funksjonen y(x)\n",
    "plt.plot(x, y)"
   ]
  },
  {
   "cell_type": "markdown",
   "metadata": {},
   "source": [
    "I kodeeksempelet ser vi at selve implementasjonen av eulers metode er nokså grei, og koker ned til én kodelinje inni en for-løkke. Mesteparten av arbidet ligger i \"forarbeidet\" der man setter initialbetingelser og parametre til eulers metode. Men, hva skjer dersom $x$ og $y$ er vektororer istedenfor vanlige tallvariabler?\n",
    "\n",
    "### Eulers metode og koblede differensialligninger\n",
    "\n",
    "Ett vanlig bruksområde for Eulers metode er å simulere fysikk, og her blir det fort nødvendig å arbeide i mer enn én dimensjon. Ta for eksempel funksjonene $x(t)$, $y(t)$ og $z(t)$ som alle beskriver den tidsavhengige posisjonen til et objekt i én av tre dimensjoner. Forholdet mellom $x$, $y$ og $z$ vil da kunne beskrives med et sett koblede differensialligninger som kan skrives på matriseform:\n",
    "\n",
    "$$\n",
    "\\begin{align}\n",
    "\\begin{bmatrix} x' \\\\ y' \\\\ z' \\end{bmatrix} &=\n",
    "\\begin{bmatrix} a_{11} & a_{12} & a_{13} \\\\ a_{21} & a_{22} & a_{23} \\\\ a_{31} & a_{32} & a_{33} \\end{bmatrix} \\cdot \n",
    "\\begin{bmatrix} x \\\\ y \\\\ z \\end{bmatrix} \\\\ &\\text{eller:} \\\\\n",
    "\\begin{bmatrix} x' \\\\ y' \\\\ z' \\end{bmatrix} &= A \\cdot\n",
    "\\begin{bmatrix} x \\\\ y \\\\ z \\end{bmatrix}\n",
    "\\end{align}\n",
    "$$\n",
    "\n",
    "Dersom vi definerer posisjonen som en vektor $\\vec{p} = \\begin{bmatrix} x \\\\ y \\\\ z \\end{bmatrix}$ blir dette:\n",
    "$$ \\vec{p'} = A\\cdot \\vec{p}$$\n",
    "\n",
    "Denne formelen kan vi nå bruke i Eulers metode, noe som gir:\n",
    "\n",
    "$$\n",
    "\\begin{align}\n",
    "\\vec{p}_{n+1} &= \\vec{p}_{n} + h\\cdot f(t_n, \\vec{p}_n)\\\\\n",
    "&=  \\vec{p}_{n} + h\\cdot A\\cdot \\vec{p} \n",
    "\\end{align}\n",
    "$$\n",
    "\n"
   ]
  },
  {
   "cell_type": "markdown",
   "metadata": {},
   "source": [
    "## Oppgave:\n",
    "Du skal i denne oppgaven bruke Eulers metode til å finne en tilnærmet løsning på den koblede differensiallikningen<br><br>\n",
    "$x'=-0.250 \\, x-0.250 \\, y+0.250 \\, z$<br>\n",
    "$y'=-0.375 \\, x-0.125 \\, y-0.375 \\, z$<br>\n",
    "$z'=-0.125 \\, x+0.125\\, y+0.125 \\, z$<br><br>\n",
    "med initialbetingelsene $x(0)=10,y(0)=0$ og $z(0)=-5$.<br><br>\n",
    "\n",
    "\n",
    "### a)\n",
    "\n",
    "Bruk skrittlengde $h=0.1$, og regn ut $x(4)$, $y(4)$ og $z(4)$ i kodecellen nedenfor ved hjelp av Eulers metode. Verdiene skal du lagre i variablene `x_n`, `y_n` og `z_n` henholdsvis.\n",
    "\n",
    "*PS! Husk at matrisemultiplikasjon utføres med operatoren `@` i Python*<br>\n",
    "*PPS! Ikke rund av tallverdiene*"
   ]
  },
  {
   "cell_type": "code",
   "execution_count": 3,
   "metadata": {
    "deletable": false,
    "nbgrader": {
     "cell_type": "code",
     "checksum": "5ecdf11b75b940c78d935284ad9ba60a",
     "grade": false,
     "grade_id": "cell-2158ea3be3ad9a39",
     "locked": false,
     "schema_version": 3,
     "solution": true,
     "task": false
    },
    "tags": []
   },
   "outputs": [],
   "source": [
    "# Skriv programmet her:\n",
    "\n",
    "h = 0.1 # Skrittlengde\n",
    "duration = 4.0 # Varighet\n",
    "\n",
    "#-------------------------------------\n",
    "# SKRIV DIN KODE HER:\n",
    "#-------------------------------------\n",
    "\n",
    "def euler(A, x0, h, duration):\n",
    "    steps = int(duration/h)\n",
    "\n",
    "    x = x0\n",
    "\n",
    "    for i in range(steps):\n",
    "        x = x + h*A@x\n",
    "    \n",
    "    return x\n",
    "\n",
    "A = np.array([\n",
    "    [-0.250, -0.250, 0.250],\n",
    "    [-0.375, -0.125, -0.375],\n",
    "    [-0.125, 0.125, 0.125],\n",
    "])\n",
    "\n",
    "x0 = np.array([10, 0, -5])\n",
    "x = euler(A, x0, h, duration)\n",
    "\n",
    "x_n, y_n, z_n = x"
   ]
  },
  {
   "cell_type": "code",
   "execution_count": 4,
   "metadata": {
    "deletable": false,
    "editable": false,
    "nbgrader": {
     "cell_type": "code",
     "checksum": "e795b619d32f8ef2482652e6bf070de1",
     "grade": true,
     "grade_id": "cell-45e29f20a89d272d",
     "locked": true,
     "points": 10,
     "schema_version": 3,
     "solution": false,
     "task": false
    },
    "tags": []
   },
   "outputs": [
    {
     "name": "stdout",
     "output_type": "stream",
     "text": [
      "Ved tid t=4 sekund er: x=-2.889, y=6.262 og z=-10.420\n"
     ]
    }
   ],
   "source": [
    "print(f\"Ved tid t=4 sekund er: x={x_n:.3f}, y={y_n:.3f} og z={z_n:.3f}\")"
   ]
  },
  {
   "cell_type": "markdown",
   "metadata": {},
   "source": [
    "\n",
    "### b) \n",
    "\n",
    "Kopier løsningen fra deloppgave **a)** til kodecellen nedenfor, og utvid programmet slik at det lager et plot av løsningsfunsjonene $x(t),y(t)$ og $z(t)$ for $0 \\le t \\le 4$.<br>\n",
    "Benytt henholdsvis svart, blå og rød linje for de tre grafene."
   ]
  },
  {
   "cell_type": "code",
   "execution_count": 6,
   "metadata": {
    "deletable": false,
    "nbgrader": {
     "cell_type": "code",
     "checksum": "c662c3eb6f50c79705a2fef61520b3f7",
     "grade": false,
     "grade_id": "cell-a24e63ede38c4d30",
     "locked": false,
     "schema_version": 3,
     "solution": true,
     "task": false
    },
    "tags": []
   },
   "outputs": [
    {
     "data": {
      "image/png": "[encoded data removed]",
      "text/plain": [
       "<Figure size 640x480 with 1 Axes>"
      ]
     },
     "metadata": {},
     "output_type": "display_data"
    }
   ],
   "source": [
    "import numpy as np\n",
    "import matplotlib.pyplot as plt\n",
    "\n",
    "#-------------------------------------\n",
    "# SKRIV DIN KODE HER:\n",
    "#-------------------------------------\n",
    "\n",
    "def euler_series(A, x0, h, duration):\n",
    "    steps = int(duration/h)\n",
    "\n",
    "    x = [x0]\n",
    "\n",
    "    for i in range(steps):\n",
    "        x.append(x[i] + h*A@x[i])\n",
    "    \n",
    "    return np.array(x)\n",
    "\n",
    "def plot_vec(x, h, labels):\n",
    "    t = np.linspace(0, len(x)*h, len(x))\n",
    "\n",
    "    for i in range(len(labels)):\n",
    "        plt.plot(t, x[:, i], label=labels[i])\n",
    "\n",
    "    plt.legend()\n",
    "\n",
    "x = euler_series(A, x0, h, duration)\n",
    "plot_vec(x, h, [\"x\", \"y\", \"z\"])"
   ]
  },
  {
   "cell_type": "markdown",
   "metadata": {},
   "source": [
    "*Kurvene til $x(t)$, $y(t)$ og $z(t)$ burde se noe [slik](Figurer/oppg1b_fasit.png) ut.*"
   ]
  },
  {
   "cell_type": "code",
   "execution_count": null,
   "metadata": {
    "deletable": false,
    "editable": false,
    "nbgrader": {
     "cell_type": "code",
     "checksum": "4fc1e73ebfb6725e3805eab140e5a335",
     "grade": true,
     "grade_id": "cell-87d99cdc249b0c4e",
     "locked": true,
     "points": 10,
     "schema_version": 3,
     "solution": false,
     "task": false
    },
    "tags": []
   },
   "outputs": [],
   "source": []
  }
 ],
 "metadata": {
  "kernelspec": {
   "display_name": "Python 3 (ipykernel)",
   "language": "python",
   "name": "python3"
  },
  "language_info": {
   "codemirror_mode": {
    "name": "ipython",
    "version": 3
   },
   "file_extension": ".py",
   "mimetype": "text/x-python",
   "name": "python",
   "nbconvert_exporter": "python",
   "pygments_lexer": "ipython3",
   "version": "3.10.11"
  }
 },
 "nbformat": 4,
 "nbformat_minor": 4
}
