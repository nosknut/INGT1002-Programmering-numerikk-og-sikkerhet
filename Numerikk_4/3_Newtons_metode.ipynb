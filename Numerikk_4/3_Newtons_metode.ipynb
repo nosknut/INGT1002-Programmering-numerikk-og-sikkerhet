{
 "cells": [
  {
   "cell_type": "markdown",
   "metadata": {},
   "source": [
    "# Oppgave 3: Godt og blandet om Newtons metode\n",
    "\n",
    "Vi har tidligere sett på fikspunktitereasjon og halvereingsmetoden som algoritmer for å løse ligninger med én variabel. Nå skal vi se på en annen populær algoritme, som tilbyr betydelig raskere gonvergensegenskaper enn de andre to: Newton's metode. Newton's metode vil kunne finne nullpunktene til en funksjon $f(x)$ så lenge den er deriverbar, og bruker en som andre iterative metoder initielt estimat $x=x_0$ som utgangspunkt.\n",
    "\n",
    "\n",
    "Metoden baserer seg på at hvis man starter med en verdi $x_n$, så kan man bruke funksjonsuttrykket $f(x)$ og funksjonens deriverte $f'(x)$ til å finne en ny verdi $x_{n+1}$ som vil være nærmere nullpunktet til $f(x)$:\n",
    "\n",
    "$$x_{n+1} = x_n - \\frac{f(x_n)}{f'(x_n)}$$\n",
    "\n",
    "Hvis man gjentar denne prosessen et tilstrekkelig antall ganger, så vil $x_n$ konvergere med nullpunktet, og differansen mellom $x_n$ og $x_{n+1}$ vil minke for hver iterasjon. Vanligvis avslutter man prosessen når differansen feilen $|f(x_n)|$ er mindre enn en fastsatt verdi, f.eks. $10^{-4}$. Du kan lese mer om Newton's metode [her](https://en.wikipedia.org/wiki/Newton%27s_method).\n",
    "\n",
    "En interaktiv visualisering av newtons metode kan du se ved  å kjøre kodecellen nedenfor. Du kan prøve deg frem med ulike startverdier $x_0$ ved å klikke og dra på markøren for $x_0$:"
   ]
  },
  {
   "cell_type": "code",
   "execution_count": 3,
   "metadata": {},
   "outputs": [
    {
     "data": {
      "text/html": [
       " <iframe src=\"https://folk.ntnu.no/jonajh/jsx/newtonsmetode.html\" height=600 width=800></iframe> \n"
      ],
      "text/plain": [
       "<IPython.core.display.HTML object>"
      ]
     },
     "metadata": {},
     "output_type": "display_data"
    }
   ],
   "source": [
    "%%html\n",
    " <iframe src=\"https://folk.ntnu.no/jonajh/jsx/newtonsmetode.html\" height=600 width=800></iframe> "
   ]
  },
  {
   "cell_type": "markdown",
   "metadata": {},
   "source": [
    "Men hva gjør vi dersom vi har en ligning, og ikke en enkel funksjon å finne nullpunktene til? Da må vi ty til god gammel algebra for å omsrkive ligningen til en form $f(x) = 0$, slik at vi løser ligningen ved å finne *roten* til $f(x)$.\n",
    "\n",
    "La oss si vi har en ligning vi ikke klarer løse analytisk: $\\cos{x} = x$.\n",
    "For alle ligninger vi er kjente med, kan vi flytte alle leddene over på en side av likhetstegnet slik at vi får feks:\n",
    "$$\n",
    "\\cos{x} -x = 0\n",
    "$$\n",
    "Å løse ligningen betyr av vi vil finne en $x$ slik at $\\cos{x} -x = 0$, problemet blir altså det samme som å\n",
    "finne roten til funksjonen:\n",
    "$$\n",
    "f(x) = \\cos{x}-x\n",
    "$$"
   ]
  },
  {
   "cell_type": "markdown",
   "metadata": {},
   "source": [
    "## Oppgave a)\n",
    "Likningen\n",
    "$\\arctan(x) = \\ln(x)$\n",
    "har én og bare én løsning. Benytt Newtons metode med startverdi $x = 3.8$ til å finne en tilnærmet verdi for løsningen med to korrekte desimaler (det skal ikke kreve mange iterasjoner). Denne løses uten bruk av Python.\n"
   ]
  },
  {
   "cell_type": "markdown",
   "metadata": {},
   "source": [
    "Skriv inn tallsvar til variabelen `x` nedenfor: "
   ]
  },
  {
   "cell_type": "code",
   "execution_count": 32,
   "metadata": {},
   "outputs": [
    {
     "name": "stdout",
     "output_type": "stream",
     "text": [
      "x_0: 3.8\n",
      "x_1: 3.6914847503098462\n",
      "--------------\n",
      "f(3.6925855691423317) = 2.355160844125237e-08\n",
      "f(3.6926) = 0.0\n"
     ]
    }
   ],
   "source": [
    "import numpy as np\n",
    "import sympy as sp\n",
    "\n",
    "def f(x):\n",
    "    return np.arctan(x) - np.log(x)\n",
    "\n",
    "def df(x):\n",
    "    return 1/(x**2 + 1) - 1/x\n",
    "\n",
    "tol = 1e-4\n",
    "\n",
    "x = 3.8\n",
    "\n",
    "i = 0\n",
    "while abs(f(x)) > tol:\n",
    "    print(f\"x_{i}:\", x)\n",
    "    i += 1\n",
    "    x = x - f(x)/df(x)\n",
    "\n",
    "print(\"--------------\")\n",
    "print(f\"f({x}) =\", f(x))\n",
    "print(f\"f({round(x, 4)}) =\", round(f(x), 4))"
   ]
  },
  {
   "cell_type": "code",
   "execution_count": null,
   "metadata": {
    "deletable": false,
    "editable": false,
    "nbgrader": {
     "cell_type": "code",
     "checksum": "e65ab12206ce1b20c4f700035c771ad4",
     "grade": true,
     "grade_id": "cell-95ebf8b49dfe3cc6",
     "locked": true,
     "points": 7,
     "schema_version": 3,
     "solution": false,
     "task": false
    },
    "tags": []
   },
   "outputs": [],
   "source": []
  },
  {
   "cell_type": "markdown",
   "metadata": {},
   "source": [
    "## Oppgave b)\n",
    "Tangenten til kurven $𝑦 = 𝑒^{2−𝑥}$ i $𝑥 = 2$ skjærer kurven $𝑦 = 𝑒^𝑥$ i et punkt der $𝑥 = 𝑎$. Oppgaven med å finne verdien til $a$ kan vi dele opp i to steg:<br><br>\n",
    "* Finn funksjonen $f(x)$, som er slik at vi kan finne verdien av $a$ ved å løse denne likningen $f(x) = 0$, samt funksonens deriverte $f'(x)$. (Hint: Finn tangentlikningen først)\n",
    "* Bruk Newtons metode til å bestemme en tilnærmet riktig verdi for a, korrekt avrundet til 6 desimaler. Gjør dette ved bruk av Python, du velger selv startverdi $x_0$.\n",
    "\n",
    "*Hint 1: Dersom du sitter fast kan det lønne seg å utføre beregningene på papir først, og legge de til som programkode etterpå.* \\\n",
    "*Hint 2: Er du usikker på om svaret er riktig kan du plotte funksjonen $f(x)$, og finne nullpunktene grafisk.*"
   ]
  },
  {
   "cell_type": "markdown",
   "metadata": {},
   "source": [
    "Skriv svaret her: "
   ]
  },
  {
   "cell_type": "code",
   "execution_count": 35,
   "metadata": {
    "deletable": false,
    "nbgrader": {
     "cell_type": "code",
     "checksum": "4fea0aeefce2f6b59aa5b5b501ea9511",
     "grade": false,
     "grade_id": "cell-ad8b7bc24b7bc637",
     "locked": false,
     "schema_version": 3,
     "solution": true,
     "task": false
    },
    "tags": []
   },
   "outputs": [
    {
     "name": "stdout",
     "output_type": "stream",
     "text": [
      "x_0: 0\n",
      "x_1: 0.7615941559557649\n",
      "x_2: 0.9955835944162236\n",
      "--------------\n",
      "f(0.9999999712867595) = 1.5610135939425618e-07\n",
      "f(1.0) = 0.0\n"
     ]
    }
   ],
   "source": [
    "import numpy as np\n",
    "# Funksjonen vi skal finne nullpunktet til\n",
    "def f(x):\n",
    "    #-------------------------------------\n",
    "    # SKRIV DIN KODE HER:\n",
    "    #-------------------------------------\n",
    "    return np.exp(2-x) - np.exp(x)\n",
    "    \n",
    "# Den deriverte av f(x)\n",
    "def df(x):\n",
    "    #-------------------------------------\n",
    "    # SKRIV DIN KODE HER:\n",
    "    #-------------------------------------\n",
    "    return -np.exp(2-x) - np.exp(x)\n",
    "\n",
    "# Implementer Newtons metode nedenfor:\n",
    "#-------------------------------------\n",
    "# SKRIV DIN KODE HER:\n",
    "#-------------------------------------\n",
    "\n",
    "tol = 1e-4\n",
    "\n",
    "x = 0\n",
    "\n",
    "i = 0\n",
    "while abs(f(x)) > tol:\n",
    "    print(f\"x_{i}:\", x)\n",
    "    i += 1\n",
    "    x = x - f(x)/df(x)\n",
    "\n",
    "a = x\n",
    "\n",
    "print(\"--------------\")\n",
    "print(f\"f({x}) =\", f(x))\n",
    "print(f\"f({round(x, 4)}) =\", round(f(x), 4))"
   ]
  },
  {
   "cell_type": "code",
   "execution_count": 36,
   "metadata": {
    "deletable": false,
    "editable": false,
    "nbgrader": {
     "cell_type": "code",
     "checksum": "af071c66a67a90c0b00f4854a2bbac09",
     "grade": true,
     "grade_id": "cell-dfb4950b19a3f7fa",
     "locked": true,
     "points": 7,
     "schema_version": 3,
     "solution": false,
     "task": false
    },
    "tags": []
   },
   "outputs": [
    {
     "name": "stdout",
     "output_type": "stream",
     "text": [
      "Funksjonen f(x) = 0.000000  i punktet x = 1.000000.\n"
     ]
    }
   ],
   "source": [
    "print(f\"Funksjonen f(x) = {f(a):.6f}  i punktet x = {a:-6f}.\")"
   ]
  },
  {
   "cell_type": "markdown",
   "metadata": {
    "tags": []
   },
   "source": [
    "## Oppgave c)\n",
    "Finn en tilnærmet løsning av likningen $x=g_i(x)$ for disse variantene av $g_i(x)$ ved å bruke Newtons metode med startverdi 1.5 og med **tre** iterasjoner. <br><br>\n",
    "\n",
    "$g_1(x) = \\sqrt{-e^x+x^2+4}$\n",
    "\n",
    "$g_2(x) = \\ln(4+x-x^2)$\n",
    "\n",
    "$g_3(x) = e^x+x^2+4$\n",
    "\n",
    "PS: Følgende print-setning kan brukes for å tolke hvorvidt $x$ er en løsning av ligningen $g_1(x)=x$ gitt en tallvariabel `x` og en funksjon `g1`:\n",
    "\n",
    "```python\n",
    "print(f\"g_1({a:.6f}) = {g1(a):.6f}\")\n",
    "```"
   ]
  },
  {
   "cell_type": "code",
   "execution_count": 75,
   "metadata": {
    "deletable": false,
    "nbgrader": {
     "cell_type": "code",
     "checksum": "f142b0c293ff936163a90904f26e346a",
     "grade": false,
     "grade_id": "cell-3c23ab1c55a39475",
     "locked": false,
     "schema_version": 3,
     "solution": true,
     "task": false
    },
    "tags": []
   },
   "outputs": [
    {
     "name": "stdout",
     "output_type": "stream",
     "text": [
      "g1:\n",
      "--------------\n",
      "f(x) converged after 2 iterations\n",
      "f(1.3863) = 0.0\n",
      "\n",
      "g2:\n",
      "--------------\n",
      "f(x) converged after 2 iterations\n",
      "f(1.2887) = 0.0001\n",
      "\n",
      "g3:\n",
      "f(x) did not converge after 1000 iterations\n",
      "final result:\n",
      "f(-0.812) = -5.9153\n"
     ]
    }
   ],
   "source": [
    "#-------------------------------------\n",
    "# SKRIV DIN KODE HER:\n",
    "#-------------------------------------\n",
    "\n",
    "def newtons_method(x0, f, df, max_it, tol=1e-4):\n",
    "    x = x0\n",
    "\n",
    "    i = 0\n",
    "    while abs(f(x)) > tol:\n",
    "        x = x - f(x)/df(x)\n",
    "\n",
    "        i += 1\n",
    "        if i >= max_it:\n",
    "            print(f\"f(x) did not converge after {i} iterations\")\n",
    "            print(f\"final result:\")\n",
    "            print(f\"f({round(x, 4)}) =\", round(f(x), 4))\n",
    "            return x\n",
    "    \n",
    "    print(\"--------------\")\n",
    "    print(f\"f(x) converged after {i} iterations\")\n",
    "    print(f\"f({round(x, 4)}) =\", round(f(x), 4))\n",
    "    return x\n",
    "\n",
    "print(\"g1:\")\n",
    "x1 = newtons_method(\n",
    "    x0=1.5,\n",
    "    f=lambda x: x - np.sqrt(-np.exp(x) + x**2 + 4),\n",
    "    df=lambda x: 1 - (-np.exp(x) + 2*x)/(2*np.sqrt(-np.exp(x) + x**2 + 4)),\n",
    "    max_it=100,\n",
    ")\n",
    "\n",
    "print(\"\\ng2:\")\n",
    "x2 = newtons_method(\n",
    "    x0=1.5,\n",
    "    f=lambda x: x - np.log(4 + x - x**2),\n",
    "    df=lambda x: 1 - (1 - 2*x)/(4 + x - x**2),\n",
    "    max_it=100,\n",
    ")\n",
    "\n",
    "g3 = lambda x: np.exp(x) + x**2 + 4\n",
    "\n",
    "print(\"\\ng3:\")\n",
    "x3 = newtons_method(\n",
    "    x0=1.5,\n",
    "    f=lambda x: x - g3(x),\n",
    "    df=lambda x: 1 - (np.exp(x) + 2*x),\n",
    "    max_it=1000,\n",
    ")"
   ]
  },
  {
   "cell_type": "markdown",
   "metadata": {},
   "source": [
    "Kjør cellen nedenfor for å svare på teorispørsmål."
   ]
  },
  {
   "cell_type": "code",
   "execution_count": 58,
   "metadata": {
    "deletable": false,
    "editable": false,
    "nbgrader": {
     "cell_type": "code",
     "checksum": "b21a49c05eb070da7653ed1a8f129a34",
     "grade": true,
     "grade_id": "cell-2fe5991f3fd14ce7",
     "locked": true,
     "points": 10,
     "schema_version": 3,
     "solution": false,
     "task": false
    },
    "tags": []
   },
   "outputs": [
    {
     "data": {
      "text/latex": [
       "I hvilket tilfelle ser metoden ut til å ikke konvergere?"
      ],
      "text/plain": [
       "<IPython.core.display.Latex object>"
      ]
     },
     "metadata": {},
     "output_type": "display_data"
    },
    {
     "data": {
      "application/vnd.jupyter.widget-view+json": {
       "model_id": "09d5a540520c43eab5205145308abf86",
       "version_major": 2,
       "version_minor": 0
      },
      "text/plain": [
       "GridspecLayout(children=(Button(description='1', layout=Layout(grid_area='widget001', height='50px', width='au…"
      ]
     },
     "metadata": {},
     "output_type": "display_data"
    }
   ],
   "source": [
    "from Quiz.quizcode import MultipleChoiceQuestion\n",
    "MultipleChoiceQuestion().load(\"3c\")"
   ]
  },
  {
   "cell_type": "markdown",
   "metadata": {},
   "source": [
    "## Oppgave d)\n",
    "Lag et plott av $x-g(x)$ for tilfellet som ikke ser ut til å konvergere og forklar hvorfor vi ikke finner løsningen."
   ]
  },
  {
   "cell_type": "code",
   "execution_count": 67,
   "metadata": {
    "deletable": false,
    "nbgrader": {
     "cell_type": "code",
     "checksum": "1cab3c22c9e71a46e297d2b7418bca08",
     "grade": false,
     "grade_id": "cell-6b020d0e0715e7d5",
     "locked": false,
     "schema_version": 3,
     "solution": true,
     "task": false
    },
    "tags": []
   },
   "outputs": [
    {
     "data": {
      "image/png": "[encoded data removed]",
      "text/plain": [
       "<Figure size 640x480 with 1 Axes>"
      ]
     },
     "metadata": {},
     "output_type": "display_data"
    }
   ],
   "source": [
    "#-------------------------------------\n",
    "# SKRIV DIN KODE HER:\n",
    "#-------------------------------------\n",
    "\n",
    "import matplotlib.pyplot as plt\n",
    "\n",
    "x = np.linspace(0, 3, 100)\n",
    "y = x - g3(x)\n",
    "\n",
    "plt.plot(x, y)\n",
    "plt.show()"
   ]
  },
  {
   "cell_type": "markdown",
   "metadata": {},
   "source": [
    "Og her skriver du forklaringen: Funksjonen har ingen nullpunkter, og dermed ingen løsning for $f(x)=0$."
   ]
  },
  {
   "cell_type": "code",
   "execution_count": 55,
   "metadata": {
    "deletable": false,
    "editable": false,
    "nbgrader": {
     "cell_type": "code",
     "checksum": "81c190095ef110b2bc9d6f017094b021",
     "grade": true,
     "grade_id": "cell-062999ca699dc50e",
     "locked": true,
     "points": 6,
     "schema_version": 3,
     "solution": false,
     "task": false
    },
    "tags": []
   },
   "outputs": [],
   "source": [
    "# Kodecellen brukes under retting. La så!"
   ]
  }
 ],
 "metadata": {
  "kernelspec": {
   "display_name": "Python 3 (ipykernel)",
   "language": "python",
   "name": "python3"
  },
  "language_info": {
   "codemirror_mode": {
    "name": "ipython",
    "version": 3
   },
   "file_extension": ".py",
   "mimetype": "text/x-python",
   "name": "python",
   "nbconvert_exporter": "python",
   "pygments_lexer": "ipython3",
   "version": "3.10.11"
  }
 },
 "nbformat": 4,
 "nbformat_minor": 4
}
