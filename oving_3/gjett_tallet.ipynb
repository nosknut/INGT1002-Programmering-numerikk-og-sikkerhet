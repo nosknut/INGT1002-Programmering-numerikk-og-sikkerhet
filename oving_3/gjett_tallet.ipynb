{
 "cells": [
  {
   "cell_type": "markdown",
   "metadata": {
    "deletable": false,
    "run_control": {
     "frozen": true
    }
   },
   "source": [
    "# Gjettelek\n",
    "\n",
    "**Læringsmål:**\n",
    "\n",
    "* Løkker\n",
    "* Betingelser\n",
    "* Innebygde funksjoner\n",
    "\n",
    "\n",
    "I denne oppgaven skal du lage en funnksjon som genererer et tilfeldig heltall i et gitt intervall, og deretter lar brukeren gjette på hvilket tall dette er. Dette bør gjøres ved bruk av løkker. Hele funksjonen skrives i ett kodevindu, altså under deloppgave a).\n",
    "\n",
    "\n",
    "\n",
    "I denne oppgaven må du benytte deg av biblioteket random. Derfor skal koden din starte med `import random`. \n",
    "Eksempel på bruk av random.randint()\n",
    "\n",
    "```python\n",
    "tilfeldigTall = random.randint(1,50)    #gir deg et tilfeldig tall fra og med 1, til og med 50\n",
    "tall = random.randint(a,b)              #gir deg et tilfeldig tall mellom a og b. (Fra og med a, til og med b)\n",
    "```\n",
    "\n"
   ]
  },
  {
   "cell_type": "markdown",
   "metadata": {
    "deletable": false,
    "editable": false,
    "run_control": {
     "frozen": true
    }
   },
   "source": [
    "## Oppgave a: obligatorisk\n",
    "Be brukeren om å velge en nedre og en øvre grense for tall han eller hun skal gjette på. Lagre disse to opplysningene i to variabler.\n",
    "\n",
    "***Skriv koden din her:***"
   ]
  },
  {
   "cell_type": "code",
   "execution_count": 1,
   "metadata": {
    "ExecuteTime": {
     "end_time": "2019-07-02T14:02:57.358551Z",
     "start_time": "2019-07-02T14:02:57.352636Z"
    }
   },
   "outputs": [
    {
     "name": "stdout",
     "output_type": "stream",
     "text": [
      "Oppgi en nedre grense: 10\n",
      "Oppgi en øvre grense: 20\n",
      "Make a guess? 11\n",
      "Your guess is too low\n",
      "Make a guess? 12\n",
      "Your guess is too low\n",
      "Make a guess? 13\n",
      "Your guess is too low\n",
      "Make a guess? 14\n",
      "Your guess is too low\n",
      "Make a guess? 15\n",
      "Your guess is too low\n",
      "Make a guess? 16\n",
      "You guessed right!\n"
     ]
    }
   ],
   "source": [
    "import random\n",
    "\n",
    "lower_limit = int(input(\"Oppgi en nedre grense: \"))\n",
    "print(f\"Oppgi en nedre grense: {lower_limit}\")\n",
    "\n",
    "upper_limit = int(input(\"Oppgi en øvre grense: \"))\n",
    "print(f\"Oppgi en øvre grense: {upper_limit}\")\n",
    "\n",
    "number = random.randint(lower_limit, upper_limit)\n",
    "\n",
    "while True:\n",
    "    guess = int(input(\"Make a guess? \"))\n",
    "    print(f\"Make a guess? {guess}\")\n",
    "    \n",
    "    if guess > number:\n",
    "        print(\"Your guess is too high\")\n",
    "    elif guess < number:\n",
    "        print(\"Your guess is too low\")\n",
    "    else:\n",
    "        print(\"You guessed right!\")\n",
    "        break"
   ]
  },
  {
   "cell_type": "markdown",
   "metadata": {
    "deletable": false,
    "run_control": {
     "frozen": true
    }
   },
   "source": [
    "## Oppgave b: frivillig\n",
    "Lag en funksjon, *gjettelek(a,b)* som tar inn verdiene i deloppgave a). Lag så en variabel tilfeldigTall i som genererer et tilfeldig tall i intervallet mellom den øvre og den nedre grensen som brukeren har satt. Fortsett å skriv i samme felt som i oppgave a."
   ]
  },
  {
   "cell_type": "markdown",
   "metadata": {
    "deletable": false,
    "run_control": {
     "frozen": true
    }
   },
   "source": [
    "## Oppgave c: frivillig\n",
    "Skriv en while-løkke som kjører så lenge brukeren ikke har gjettet riktig svar. Brukeren skal få tilbakemelding for hvert gjett om han eller hun gjettet for lavt, for høyt eller riktig. Fortsett å skriv i samme felt som i oppgave a og b.\n",
    "\n",
    "Eksempel på kjøring:\n",
    "```python\n",
    "Gi en nedre grense for det tilfeldige tallet: 1\n",
    "Gi en øvre grense for det tilfeldige tallet: 100\n",
    "Make a guess 50\n",
    "The correct number is lower\n",
    "Make a guess 25\n",
    "The correct Number is higher\n",
    "Make a guess 37\n",
    "The correct number is lower\n",
    "Make a guess 32\n",
    "You guessed correct!```"
   ]
  },
  {
   "cell_type": "code",
   "execution_count": null,
   "metadata": {},
   "outputs": [],
   "source": []
  }
 ],
 "metadata": {
  "celltoolbar": "Edit Metadata",
  "kernelspec": {
   "display_name": "Python 3",
   "language": "python",
   "name": "python3"
  },
  "language_info": {
   "codemirror_mode": {
    "name": "ipython",
    "version": 3
   },
   "file_extension": ".py",
   "mimetype": "text/x-python",
   "name": "python",
   "nbconvert_exporter": "python",
   "pygments_lexer": "ipython3",
   "version": "3.10.11"
  },
  "toc": {
   "base_numbering": 1,
   "nav_menu": {},
   "number_sections": false,
   "sideBar": true,
   "skip_h1_title": false,
   "title_cell": "Table of Contents",
   "title_sidebar": "Contents",
   "toc_cell": false,
   "toc_position": {},
   "toc_section_display": true,
   "toc_window_display": false
  }
 },
 "nbformat": 4,
 "nbformat_minor": 2
}
