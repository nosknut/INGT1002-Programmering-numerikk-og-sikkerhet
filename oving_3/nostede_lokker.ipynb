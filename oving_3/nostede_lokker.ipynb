{
 "cells": [
  {
   "cell_type": "markdown",
   "metadata": {
    "deletable": false,
    "run_control": {
     "frozen": true
    }
   },
   "source": [
    "# Intro til nøstede løkker\n",
    "\n",
    "**Læringsmål:**\n",
    "\n",
    "* Nøstede løkker\n",
    "\n",
    "I denne oppgaven skal du lære hvordan vi kan benytte oss av en løkke inne i en annen løkke. "
   ]
  },
  {
   "cell_type": "markdown",
   "metadata": {
    "hidden": true,
    "run_control": {
     "frozen": true
    }
   },
   "source": [
    "### Intro til nøstede løkker\n",
    "Nøstede løkker vil si løkker som er inni andre løkker. Et eksempel på en nøstet løkke er en dobbel løkke, som vil si at det er en løkke inni en annen løkke. Doble løkker brukes mye i programmering, typisk når man skal løse problemer som på en eller annen måte er todimensjonale, f.eks. knyttet til matriser eller todimensjonale tabeller med tall. Todimensjonal her kan bety rent visuelt (f.eks. at man skal tegne noe på en skjerm og må oppdatere fargen i hvert punkt i et rutenett av piksler), men behøver ikke å ha noen visuell betydning. Det kan være snakk om dimensjoner av informasjon på en mer abstrakt måte. F.eks. kan de to dimensjonene være tall og verdier i kortstokken, vi kan da generere en hel kortstokk ved en dobbel løkke som følger:"
   ]
  },
  {
   "cell_type": "code",
   "execution_count": 1,
   "metadata": {
    "ExecuteTime": {
     "end_time": "2019-07-02T13:13:16.212772Z",
     "start_time": "2019-07-02T13:13:16.199788Z"
    },
    "hidden": true
   },
   "outputs": [
    {
     "name": "stdout",
     "output_type": "stream",
     "text": [
      "♠A ♠2 ♠3 ♠4 ♠5 ♠6 ♠7 ♠8 ♠9 ♠10 ♠J ♠Q ♠K \n",
      "♣A ♣2 ♣3 ♣4 ♣5 ♣6 ♣7 ♣8 ♣9 ♣10 ♣J ♣Q ♣K \n",
      "♥A ♥2 ♥3 ♥4 ♥5 ♥6 ♥7 ♥8 ♥9 ♥10 ♥J ♥Q ♥K \n",
      "♦A ♦2 ♦3 ♦4 ♦5 ♦6 ♦7 ♦8 ♦9 ♦10 ♦J ♦Q ♦K \n",
      "\n"
     ]
    }
   ],
   "source": [
    "\n",
    "def format_card_deck():\n",
    "    \n",
    "    farger = ['♠', '♣', '♥', '♦']\n",
    "    verdier = ['A', '2', '3', '4', '5', '6', '7', '8',\n",
    "                  '9', '10', 'J', 'Q', 'K']\n",
    "    outer_string = \"\"\n",
    "    \n",
    "    for farge in farger:  # Traverse the farger-array\n",
    "        inner_string = \"\"\n",
    "        for verdi in verdier: # Traverse the verdier-array\n",
    "            inner_string += farge + verdi + \" \" # Add the current farge and verdi, in addition to spacing\n",
    "        outer_string += inner_string + \"\\n\" # add all the values of one farge to the result, and start at a new line\n",
    "           \n",
    "    return outer_string\n",
    "\n",
    "print(format_card_deck())\n",
    "\n",
    "    "
   ]
  },
  {
   "cell_type": "markdown",
   "metadata": {
    "deletable": false,
    "hidden": true,
    "run_control": {
     "frozen": true
    }
   },
   "source": [
    "Den innerste løkka går 13 runder hver gang den kjører fordi det er 13 elementer i sekvensen som gis til for-løkka (verdier). Den legger til hver av kortene i en farge til en indre streng. Denne strengen legges til en ytre streng når den indre forløkken er ferdig. Dermed får vi alle kortene av en sort hver gang den indre forløkken er ferdig å kjøre. Merk \"\\n\" i den ytre strengen. Dette gjør at vi skifter linje mellom hver gang den fullførte indre strengen legges til den  ytre strengen. Den ytre løkka går 4 ganger, en for hver farge i kortstokken"
   ]
  },
  {
   "cell_type": "markdown",
   "metadata": {},
   "source": [
    "## Oppgave a: obligatorisk"
   ]
  },
  {
   "cell_type": "markdown",
   "metadata": {
    "deletable": false,
    "run_control": {
     "frozen": true
    }
   },
   "source": [
    "**Eksempel på nøstet løkke med print**"
   ]
  },
  {
   "cell_type": "code",
   "execution_count": 10,
   "metadata": {},
   "outputs": [
    {
     "name": "stdout",
     "output_type": "stream",
     "text": [
      "Jeg elsker programmering! :-) Jeg elsker programmering! :-) Jeg elsker programmering! :-) \n",
      "Jeg elsker programmering! :-) Jeg elsker programmering! :-) Jeg elsker programmering! :-) \n",
      "Jeg elsker programmering! :-) Jeg elsker programmering! :-) Jeg elsker programmering! :-) \n",
      "Jeg elsker programmering! :-) Jeg elsker programmering! :-) Jeg elsker programmering! :-) \n",
      "Jeg elsker programmering! :-) Jeg elsker programmering! :-) Jeg elsker programmering! :-) \n"
     ]
    }
   ],
   "source": [
    "for x in range(5):\n",
    "    for y in range(3):\n",
    "        print(\"Jeg elsker programmering!\", end=\" :-) \")\n",
    "    print()"
   ]
  },
  {
   "cell_type": "markdown",
   "metadata": {},
   "source": [
    "**Under følger en funksjon og bygging av tekststreng som gir samme output som løkkene over:**"
   ]
  },
  {
   "cell_type": "code",
   "execution_count": 15,
   "metadata": {},
   "outputs": [
    {
     "name": "stdout",
     "output_type": "stream",
     "text": [
      "Jeg elsker programmering! :-) Jeg elsker programmering! :-) Jeg elsker programmering! :-) \n",
      "Jeg elsker programmering! :-) Jeg elsker programmering! :-) Jeg elsker programmering! :-) \n",
      "Jeg elsker programmering! :-) Jeg elsker programmering! :-) Jeg elsker programmering! :-) \n",
      "Jeg elsker programmering! :-) Jeg elsker programmering! :-) Jeg elsker programmering! :-) \n",
      "Jeg elsker programmering! :-) Jeg elsker programmering! :-) Jeg elsker programmering! :-) \n",
      "\n"
     ]
    }
   ],
   "source": [
    "def nested_loop_example():\n",
    "    \n",
    "    result_string = \"\"\n",
    "    \n",
    "    for x in range(5):\n",
    "        inner_string = \"\"\n",
    "        \n",
    "        for y in range(3):\n",
    "            inner_string += \"Jeg elsker programmering! :-) \"\n",
    "        \n",
    "        result_string += inner_string + \"\\n\"\n",
    "    return result_string\n",
    "\n",
    "print(nested_loop_example())"
   ]
  },
  {
   "cell_type": "markdown",
   "metadata": {
    "deletable": false,
    "run_control": {
     "frozen": true
    }
   },
   "source": [
    "Denne utskriften trenger man strengt tatt ikke dobbel løkke for å få til; selve utskriften gir riktig nok et todimensjonalt inntrykk, men siden den underliggende informasjonen ikke er todimensjonal men derimot konstant (samme utskrift \"Jeg elsker programmering!\" i alle tilfeller), er det også greit mulig å klare dette med enkel løkke, eller helt uten løkker, som følger:"
   ]
  },
  {
   "cell_type": "code",
   "execution_count": 17,
   "metadata": {
    "ExecuteTime": {
     "end_time": "2019-07-02T13:15:07.223226Z",
     "start_time": "2019-07-02T13:15:07.215744Z"
    }
   },
   "outputs": [
    {
     "name": "stdout",
     "output_type": "stream",
     "text": [
      "Jeg elsker programmering!  Jeg elsker programmering!  Jeg elsker programmering!\n",
      "Jeg elsker programmering!  Jeg elsker programmering!  Jeg elsker programmering!\n",
      "Jeg elsker programmering!  Jeg elsker programmering!  Jeg elsker programmering!\n",
      "Jeg elsker programmering!  Jeg elsker programmering!  Jeg elsker programmering!\n",
      "Jeg elsker programmering!  Jeg elsker programmering!  Jeg elsker programmering!\n",
      "Jeg elsker programmering!  Jeg elsker programmering!  Jeg elsker programmering!  \n",
      "Jeg elsker programmering!  Jeg elsker programmering!  Jeg elsker programmering!  \n",
      "Jeg elsker programmering!  Jeg elsker programmering!  Jeg elsker programmering!  \n",
      "Jeg elsker programmering!  Jeg elsker programmering!  Jeg elsker programmering!  \n",
      "Jeg elsker programmering!  Jeg elsker programmering!  Jeg elsker programmering!  \n",
      "\n"
     ]
    }
   ],
   "source": [
    "# Løsning med enkel løkke:\n",
    "for x in range(5):\n",
    "    print(\"Jeg elsker programmering!  Jeg elsker programmering!  Jeg elsker programmering!\")\n",
    "\n",
    "# Løsning uten løkker; \"\\n\" er tegnet for linjeskift (newline på engelsk)\n",
    "print(((\"Jeg elsker programmering!  \" * 3) + \"\\n\") * 5)"
   ]
  },
  {
   "cell_type": "markdown",
   "metadata": {
    "deletable": false,
    "run_control": {
     "frozen": true
    }
   },
   "source": [
    "Koden over vil skrive ut “Jeg elsker programmering!” tre ganger ved siden av hverandre fem ganger nedover. Dette skjer på to ulike måter, derav 10 linjer i outputen. \n",
    "\n",
    "Hvis vi nå endrer litt på kravene til programmet, så det skal handle om flere studenter enn \"Jeg\" og flere emner enn \"programmering\", vil vi ha et genuint todimensjonalt problem (én dimensjon er studenter, en annen emner) hvor dobbel løkke vil være klart enkleste løsning. **Din oppgave: kopier funksjonen nested_loop_example(), endre programmet så det gir utskrift som vist nedenfor**. Fra forrige oppgave skal altså Jeg byttes ut med Stud &lt;nummer>, og programmering skal byttes ut med Emne &lt;nummer>. Brukeren skal angi ønsket antall for både studenter og emner, 4 og 3 er bare eksempler.\n",
    "\n",
    "```\n",
    "print(nested_loop_example())\n",
    "Hvor mange studenter? 4\n",
    "Hvor mange emner? 3\n",
    "Stud 1 elsker Emne 1 ; Stud 1 elsker Emne 2 ; Stud 1 elsker Emne 3 ;\n",
    "Stud 2 elsker Emne 1 ; Stud 2 elsker Emne 2 ; Stud 2 elsker Emne 3 ;\n",
    "Stud 3 elsker Emne 1 ; Stud 3 elsker Emne 2 ; Stud 3 elsker Emne 3 ;\n",
    "Stud 4 elsker Emne 1 ; Stud 4 elsker Emne 2 ; Stud 4 elsker Emne 3 ;\n",
    "```\n",
    "\n",
    "**EKSTRA UTFORDRING** (ikke nødvendig for å få godkjent (a)): For å gjøre programmet litt mindre tørt og abstrakt, kan du prøve å endre så det skriver fornavn på personer i stedet for \"Stud x\", og navn på faktiske emner i stedet for Emne y - jfr eksempel med kortstokk i teksten \"Intro til nøstede løkker\" øverst i denne oppgaven. For å gjøre det mindre forutsigbart, kan du dessuten bruke funksjonen random() for å generere tilfeldige tall for hver runde av løkka, og ha en if-setning for å velge verb basert på verdien av dette. F.eks. \"elsker\" bare hvis tallet ble > 0.9, og gradvis litt mer beskjedne verb til lavere tallverdien var."
   ]
  },
  {
   "cell_type": "code",
   "execution_count": 3,
   "metadata": {},
   "outputs": [
    {
     "name": "stdout",
     "output_type": "stream",
     "text": [
      "Hvor mange studenter? 4\n",
      "Hvor mange emner? 3\n",
      "Stud 1 elsker emne 1 ; Stud 1 elsker emne 2 ; Stud 1 elsker emne 3 ; \n",
      "Stud 2 elsker emne 1 ; Stud 2 elsker emne 2 ; Stud 2 elsker emne 3 ; \n",
      "Stud 3 elsker emne 1 ; Stud 3 elsker emne 2 ; Stud 3 elsker emne 3 ; \n",
      "Stud 4 elsker emne 1 ; Stud 4 elsker emne 2 ; Stud 4 elsker emne 3 ; \n",
      "\n"
     ]
    }
   ],
   "source": [
    "def nested_loop_example():\n",
    "    num_stud = int(input(\"Hvor mange studenter?: \"))\n",
    "    print(f\"Hvor mange studenter? {num_stud}\")\n",
    "    num_em = int(input(\"Hvor mange emner?: \"))\n",
    "    print(f\"Hvor mange emner? {num_em}\")\n",
    "    \n",
    "    result_string = \"\"\n",
    "    \n",
    "    for stud in range(num_stud):\n",
    "        inner_string = \"\"\n",
    "        \n",
    "        for em in range(num_em):\n",
    "            inner_string += f\"Stud {stud + 1} elsker emne {em + 1} ; \"\n",
    "        \n",
    "        result_string += inner_string + \"\\n\"\n",
    "    return result_string\n",
    "\n",
    "print(nested_loop_example())"
   ]
  },
  {
   "cell_type": "markdown",
   "metadata": {
    "deletable": false,
    "editable": false,
    "run_control": {
     "frozen": true
    }
   },
   "source": [
    "## Oppgave b: obligatorisk"
   ]
  },
  {
   "cell_type": "markdown",
   "metadata": {
    "deletable": false,
    "run_control": {
     "frozen": true
    }
   },
   "source": [
    "Lag en funksjon som returnerer en tekststreng med alle klokkeslett i løpet av et døgn på en fin måte. Du trenger kun å tenke på timer og minutter. Klokkeslettene skal gå fra 0:0 til 23:59 som vist nedenfor.\n",
    "\n",
    "Eksempel på kjøring av kode:\n",
    "\n",
    "```python\n",
    "print(klokkeslett())\n",
    "\n",
    "0:0\n",
    "0:1\n",
    "0:2\n",
    ".\n",
    ".       # Alle klokkeslett i mellom her skal skrives ut\n",
    ".\n",
    "23:58\n",
    "23:59```\n",
    "\n",
    "***Skriv koden din her:***"
   ]
  },
  {
   "cell_type": "code",
   "execution_count": 12,
   "metadata": {
    "ExecuteTime": {
     "end_time": "2019-07-02T13:21:25.863928Z",
     "start_time": "2019-07-02T13:21:25.855403Z"
    }
   },
   "outputs": [
    {
     "name": "stdout",
     "output_type": "stream",
     "text": [
      "00:00  |  01:00  |  02:00  |  03:00  |  04:00  |  05:00  |  06:00  |  07:00  |  08:00  |  09:00  |  10:00  |  11:00  |  12:00  |  13:00  |  14:00  |  15:00  |  16:00  |  17:00  |  18:00  |  19:00  |  20:00  |  21:00  |  22:00  |  23:00  |  \n",
      "00:01  |  01:01  |  02:01  |  03:01  |  04:01  |  05:01  |  06:01  |  07:01  |  08:01  |  09:01  |  10:01  |  11:01  |  12:01  |  13:01  |  14:01  |  15:01  |  16:01  |  17:01  |  18:01  |  19:01  |  20:01  |  21:01  |  22:01  |  23:01  |  \n",
      "00:02  |  01:02  |  02:02  |  03:02  |  04:02  |  05:02  |  06:02  |  07:02  |  08:02  |  09:02  |  10:02  |  11:02  |  12:02  |  13:02  |  14:02  |  15:02  |  16:02  |  17:02  |  18:02  |  19:02  |  20:02  |  21:02  |  22:02  |  23:02  |  \n",
      "00:03  |  01:03  |  02:03  |  03:03  |  04:03  |  05:03  |  06:03  |  07:03  |  08:03  |  09:03  |  10:03  |  11:03  |  12:03  |  13:03  |  14:03  |  15:03  |  16:03  |  17:03  |  18:03  |  19:03  |  20:03  |  21:03  |  22:03  |  23:03  |  \n",
      "00:04  |  01:04  |  02:04  |  03:04  |  04:04  |  05:04  |  06:04  |  07:04  |  08:04  |  09:04  |  10:04  |  11:04  |  12:04  |  13:04  |  14:04  |  15:04  |  16:04  |  17:04  |  18:04  |  19:04  |  20:04  |  21:04  |  22:04  |  23:04  |  \n",
      "00:05  |  01:05  |  02:05  |  03:05  |  04:05  |  05:05  |  06:05  |  07:05  |  08:05  |  09:05  |  10:05  |  11:05  |  12:05  |  13:05  |  14:05  |  15:05  |  16:05  |  17:05  |  18:05  |  19:05  |  20:05  |  21:05  |  22:05  |  23:05  |  \n",
      "00:06  |  01:06  |  02:06  |  03:06  |  04:06  |  05:06  |  06:06  |  07:06  |  08:06  |  09:06  |  10:06  |  11:06  |  12:06  |  13:06  |  14:06  |  15:06  |  16:06  |  17:06  |  18:06  |  19:06  |  20:06  |  21:06  |  22:06  |  23:06  |  \n",
      "00:07  |  01:07  |  02:07  |  03:07  |  04:07  |  05:07  |  06:07  |  07:07  |  08:07  |  09:07  |  10:07  |  11:07  |  12:07  |  13:07  |  14:07  |  15:07  |  16:07  |  17:07  |  18:07  |  19:07  |  20:07  |  21:07  |  22:07  |  23:07  |  \n",
      "00:08  |  01:08  |  02:08  |  03:08  |  04:08  |  05:08  |  06:08  |  07:08  |  08:08  |  09:08  |  10:08  |  11:08  |  12:08  |  13:08  |  14:08  |  15:08  |  16:08  |  17:08  |  18:08  |  19:08  |  20:08  |  21:08  |  22:08  |  23:08  |  \n",
      "00:09  |  01:09  |  02:09  |  03:09  |  04:09  |  05:09  |  06:09  |  07:09  |  08:09  |  09:09  |  10:09  |  11:09  |  12:09  |  13:09  |  14:09  |  15:09  |  16:09  |  17:09  |  18:09  |  19:09  |  20:09  |  21:09  |  22:09  |  23:09  |  \n",
      "00:10  |  01:10  |  02:10  |  03:10  |  04:10  |  05:10  |  06:10  |  07:10  |  08:10  |  09:10  |  10:10  |  11:10  |  12:10  |  13:10  |  14:10  |  15:10  |  16:10  |  17:10  |  18:10  |  19:10  |  20:10  |  21:10  |  22:10  |  23:10  |  \n",
      "00:11  |  01:11  |  02:11  |  03:11  |  04:11  |  05:11  |  06:11  |  07:11  |  08:11  |  09:11  |  10:11  |  11:11  |  12:11  |  13:11  |  14:11  |  15:11  |  16:11  |  17:11  |  18:11  |  19:11  |  20:11  |  21:11  |  22:11  |  23:11  |  \n",
      "00:12  |  01:12  |  02:12  |  03:12  |  04:12  |  05:12  |  06:12  |  07:12  |  08:12  |  09:12  |  10:12  |  11:12  |  12:12  |  13:12  |  14:12  |  15:12  |  16:12  |  17:12  |  18:12  |  19:12  |  20:12  |  21:12  |  22:12  |  23:12  |  \n",
      "00:13  |  01:13  |  02:13  |  03:13  |  04:13  |  05:13  |  06:13  |  07:13  |  08:13  |  09:13  |  10:13  |  11:13  |  12:13  |  13:13  |  14:13  |  15:13  |  16:13  |  17:13  |  18:13  |  19:13  |  20:13  |  21:13  |  22:13  |  23:13  |  \n",
      "00:14  |  01:14  |  02:14  |  03:14  |  04:14  |  05:14  |  06:14  |  07:14  |  08:14  |  09:14  |  10:14  |  11:14  |  12:14  |  13:14  |  14:14  |  15:14  |  16:14  |  17:14  |  18:14  |  19:14  |  20:14  |  21:14  |  22:14  |  23:14  |  \n",
      "00:15  |  01:15  |  02:15  |  03:15  |  04:15  |  05:15  |  06:15  |  07:15  |  08:15  |  09:15  |  10:15  |  11:15  |  12:15  |  13:15  |  14:15  |  15:15  |  16:15  |  17:15  |  18:15  |  19:15  |  20:15  |  21:15  |  22:15  |  23:15  |  \n",
      "00:16  |  01:16  |  02:16  |  03:16  |  04:16  |  05:16  |  06:16  |  07:16  |  08:16  |  09:16  |  10:16  |  11:16  |  12:16  |  13:16  |  14:16  |  15:16  |  16:16  |  17:16  |  18:16  |  19:16  |  20:16  |  21:16  |  22:16  |  23:16  |  \n",
      "00:17  |  01:17  |  02:17  |  03:17  |  04:17  |  05:17  |  06:17  |  07:17  |  08:17  |  09:17  |  10:17  |  11:17  |  12:17  |  13:17  |  14:17  |  15:17  |  16:17  |  17:17  |  18:17  |  19:17  |  20:17  |  21:17  |  22:17  |  23:17  |  \n",
      "00:18  |  01:18  |  02:18  |  03:18  |  04:18  |  05:18  |  06:18  |  07:18  |  08:18  |  09:18  |  10:18  |  11:18  |  12:18  |  13:18  |  14:18  |  15:18  |  16:18  |  17:18  |  18:18  |  19:18  |  20:18  |  21:18  |  22:18  |  23:18  |  \n",
      "00:19  |  01:19  |  02:19  |  03:19  |  04:19  |  05:19  |  06:19  |  07:19  |  08:19  |  09:19  |  10:19  |  11:19  |  12:19  |  13:19  |  14:19  |  15:19  |  16:19  |  17:19  |  18:19  |  19:19  |  20:19  |  21:19  |  22:19  |  23:19  |  \n",
      "00:20  |  01:20  |  02:20  |  03:20  |  04:20  |  05:20  |  06:20  |  07:20  |  08:20  |  09:20  |  10:20  |  11:20  |  12:20  |  13:20  |  14:20  |  15:20  |  16:20  |  17:20  |  18:20  |  19:20  |  20:20  |  21:20  |  22:20  |  23:20  |  \n",
      "00:21  |  01:21  |  02:21  |  03:21  |  04:21  |  05:21  |  06:21  |  07:21  |  08:21  |  09:21  |  10:21  |  11:21  |  12:21  |  13:21  |  14:21  |  15:21  |  16:21  |  17:21  |  18:21  |  19:21  |  20:21  |  21:21  |  22:21  |  23:21  |  \n",
      "00:22  |  01:22  |  02:22  |  03:22  |  04:22  |  05:22  |  06:22  |  07:22  |  08:22  |  09:22  |  10:22  |  11:22  |  12:22  |  13:22  |  14:22  |  15:22  |  16:22  |  17:22  |  18:22  |  19:22  |  20:22  |  21:22  |  22:22  |  23:22  |  \n",
      "00:23  |  01:23  |  02:23  |  03:23  |  04:23  |  05:23  |  06:23  |  07:23  |  08:23  |  09:23  |  10:23  |  11:23  |  12:23  |  13:23  |  14:23  |  15:23  |  16:23  |  17:23  |  18:23  |  19:23  |  20:23  |  21:23  |  22:23  |  23:23  |  \n",
      "00:24  |  01:24  |  02:24  |  03:24  |  04:24  |  05:24  |  06:24  |  07:24  |  08:24  |  09:24  |  10:24  |  11:24  |  12:24  |  13:24  |  14:24  |  15:24  |  16:24  |  17:24  |  18:24  |  19:24  |  20:24  |  21:24  |  22:24  |  23:24  |  \n",
      "00:25  |  01:25  |  02:25  |  03:25  |  04:25  |  05:25  |  06:25  |  07:25  |  08:25  |  09:25  |  10:25  |  11:25  |  12:25  |  13:25  |  14:25  |  15:25  |  16:25  |  17:25  |  18:25  |  19:25  |  20:25  |  21:25  |  22:25  |  23:25  |  \n",
      "00:26  |  01:26  |  02:26  |  03:26  |  04:26  |  05:26  |  06:26  |  07:26  |  08:26  |  09:26  |  10:26  |  11:26  |  12:26  |  13:26  |  14:26  |  15:26  |  16:26  |  17:26  |  18:26  |  19:26  |  20:26  |  21:26  |  22:26  |  23:26  |  \n",
      "00:27  |  01:27  |  02:27  |  03:27  |  04:27  |  05:27  |  06:27  |  07:27  |  08:27  |  09:27  |  10:27  |  11:27  |  12:27  |  13:27  |  14:27  |  15:27  |  16:27  |  17:27  |  18:27  |  19:27  |  20:27  |  21:27  |  22:27  |  23:27  |  \n",
      "00:28  |  01:28  |  02:28  |  03:28  |  04:28  |  05:28  |  06:28  |  07:28  |  08:28  |  09:28  |  10:28  |  11:28  |  12:28  |  13:28  |  14:28  |  15:28  |  16:28  |  17:28  |  18:28  |  19:28  |  20:28  |  21:28  |  22:28  |  23:28  |  \n",
      "00:29  |  01:29  |  02:29  |  03:29  |  04:29  |  05:29  |  06:29  |  07:29  |  08:29  |  09:29  |  10:29  |  11:29  |  12:29  |  13:29  |  14:29  |  15:29  |  16:29  |  17:29  |  18:29  |  19:29  |  20:29  |  21:29  |  22:29  |  23:29  |  \n",
      "00:30  |  01:30  |  02:30  |  03:30  |  04:30  |  05:30  |  06:30  |  07:30  |  08:30  |  09:30  |  10:30  |  11:30  |  12:30  |  13:30  |  14:30  |  15:30  |  16:30  |  17:30  |  18:30  |  19:30  |  20:30  |  21:30  |  22:30  |  23:30  |  \n",
      "00:31  |  01:31  |  02:31  |  03:31  |  04:31  |  05:31  |  06:31  |  07:31  |  08:31  |  09:31  |  10:31  |  11:31  |  12:31  |  13:31  |  14:31  |  15:31  |  16:31  |  17:31  |  18:31  |  19:31  |  20:31  |  21:31  |  22:31  |  23:31  |  \n",
      "00:32  |  01:32  |  02:32  |  03:32  |  04:32  |  05:32  |  06:32  |  07:32  |  08:32  |  09:32  |  10:32  |  11:32  |  12:32  |  13:32  |  14:32  |  15:32  |  16:32  |  17:32  |  18:32  |  19:32  |  20:32  |  21:32  |  22:32  |  23:32  |  \n",
      "00:33  |  01:33  |  02:33  |  03:33  |  04:33  |  05:33  |  06:33  |  07:33  |  08:33  |  09:33  |  10:33  |  11:33  |  12:33  |  13:33  |  14:33  |  15:33  |  16:33  |  17:33  |  18:33  |  19:33  |  20:33  |  21:33  |  22:33  |  23:33  |  \n",
      "00:34  |  01:34  |  02:34  |  03:34  |  04:34  |  05:34  |  06:34  |  07:34  |  08:34  |  09:34  |  10:34  |  11:34  |  12:34  |  13:34  |  14:34  |  15:34  |  16:34  |  17:34  |  18:34  |  19:34  |  20:34  |  21:34  |  22:34  |  23:34  |  \n",
      "00:35  |  01:35  |  02:35  |  03:35  |  04:35  |  05:35  |  06:35  |  07:35  |  08:35  |  09:35  |  10:35  |  11:35  |  12:35  |  13:35  |  14:35  |  15:35  |  16:35  |  17:35  |  18:35  |  19:35  |  20:35  |  21:35  |  22:35  |  23:35  |  \n",
      "00:36  |  01:36  |  02:36  |  03:36  |  04:36  |  05:36  |  06:36  |  07:36  |  08:36  |  09:36  |  10:36  |  11:36  |  12:36  |  13:36  |  14:36  |  15:36  |  16:36  |  17:36  |  18:36  |  19:36  |  20:36  |  21:36  |  22:36  |  23:36  |  \n",
      "00:37  |  01:37  |  02:37  |  03:37  |  04:37  |  05:37  |  06:37  |  07:37  |  08:37  |  09:37  |  10:37  |  11:37  |  12:37  |  13:37  |  14:37  |  15:37  |  16:37  |  17:37  |  18:37  |  19:37  |  20:37  |  21:37  |  22:37  |  23:37  |  \n",
      "00:38  |  01:38  |  02:38  |  03:38  |  04:38  |  05:38  |  06:38  |  07:38  |  08:38  |  09:38  |  10:38  |  11:38  |  12:38  |  13:38  |  14:38  |  15:38  |  16:38  |  17:38  |  18:38  |  19:38  |  20:38  |  21:38  |  22:38  |  23:38  |  \n",
      "00:39  |  01:39  |  02:39  |  03:39  |  04:39  |  05:39  |  06:39  |  07:39  |  08:39  |  09:39  |  10:39  |  11:39  |  12:39  |  13:39  |  14:39  |  15:39  |  16:39  |  17:39  |  18:39  |  19:39  |  20:39  |  21:39  |  22:39  |  23:39  |  \n",
      "00:40  |  01:40  |  02:40  |  03:40  |  04:40  |  05:40  |  06:40  |  07:40  |  08:40  |  09:40  |  10:40  |  11:40  |  12:40  |  13:40  |  14:40  |  15:40  |  16:40  |  17:40  |  18:40  |  19:40  |  20:40  |  21:40  |  22:40  |  23:40  |  \n",
      "00:41  |  01:41  |  02:41  |  03:41  |  04:41  |  05:41  |  06:41  |  07:41  |  08:41  |  09:41  |  10:41  |  11:41  |  12:41  |  13:41  |  14:41  |  15:41  |  16:41  |  17:41  |  18:41  |  19:41  |  20:41  |  21:41  |  22:41  |  23:41  |  \n",
      "00:42  |  01:42  |  02:42  |  03:42  |  04:42  |  05:42  |  06:42  |  07:42  |  08:42  |  09:42  |  10:42  |  11:42  |  12:42  |  13:42  |  14:42  |  15:42  |  16:42  |  17:42  |  18:42  |  19:42  |  20:42  |  21:42  |  22:42  |  23:42  |  \n",
      "00:43  |  01:43  |  02:43  |  03:43  |  04:43  |  05:43  |  06:43  |  07:43  |  08:43  |  09:43  |  10:43  |  11:43  |  12:43  |  13:43  |  14:43  |  15:43  |  16:43  |  17:43  |  18:43  |  19:43  |  20:43  |  21:43  |  22:43  |  23:43  |  \n",
      "00:44  |  01:44  |  02:44  |  03:44  |  04:44  |  05:44  |  06:44  |  07:44  |  08:44  |  09:44  |  10:44  |  11:44  |  12:44  |  13:44  |  14:44  |  15:44  |  16:44  |  17:44  |  18:44  |  19:44  |  20:44  |  21:44  |  22:44  |  23:44  |  \n",
      "00:45  |  01:45  |  02:45  |  03:45  |  04:45  |  05:45  |  06:45  |  07:45  |  08:45  |  09:45  |  10:45  |  11:45  |  12:45  |  13:45  |  14:45  |  15:45  |  16:45  |  17:45  |  18:45  |  19:45  |  20:45  |  21:45  |  22:45  |  23:45  |  \n",
      "00:46  |  01:46  |  02:46  |  03:46  |  04:46  |  05:46  |  06:46  |  07:46  |  08:46  |  09:46  |  10:46  |  11:46  |  12:46  |  13:46  |  14:46  |  15:46  |  16:46  |  17:46  |  18:46  |  19:46  |  20:46  |  21:46  |  22:46  |  23:46  |  \n",
      "00:47  |  01:47  |  02:47  |  03:47  |  04:47  |  05:47  |  06:47  |  07:47  |  08:47  |  09:47  |  10:47  |  11:47  |  12:47  |  13:47  |  14:47  |  15:47  |  16:47  |  17:47  |  18:47  |  19:47  |  20:47  |  21:47  |  22:47  |  23:47  |  \n",
      "00:48  |  01:48  |  02:48  |  03:48  |  04:48  |  05:48  |  06:48  |  07:48  |  08:48  |  09:48  |  10:48  |  11:48  |  12:48  |  13:48  |  14:48  |  15:48  |  16:48  |  17:48  |  18:48  |  19:48  |  20:48  |  21:48  |  22:48  |  23:48  |  \n",
      "00:49  |  01:49  |  02:49  |  03:49  |  04:49  |  05:49  |  06:49  |  07:49  |  08:49  |  09:49  |  10:49  |  11:49  |  12:49  |  13:49  |  14:49  |  15:49  |  16:49  |  17:49  |  18:49  |  19:49  |  20:49  |  21:49  |  22:49  |  23:49  |  \n",
      "00:50  |  01:50  |  02:50  |  03:50  |  04:50  |  05:50  |  06:50  |  07:50  |  08:50  |  09:50  |  10:50  |  11:50  |  12:50  |  13:50  |  14:50  |  15:50  |  16:50  |  17:50  |  18:50  |  19:50  |  20:50  |  21:50  |  22:50  |  23:50  |  \n",
      "00:51  |  01:51  |  02:51  |  03:51  |  04:51  |  05:51  |  06:51  |  07:51  |  08:51  |  09:51  |  10:51  |  11:51  |  12:51  |  13:51  |  14:51  |  15:51  |  16:51  |  17:51  |  18:51  |  19:51  |  20:51  |  21:51  |  22:51  |  23:51  |  \n",
      "00:52  |  01:52  |  02:52  |  03:52  |  04:52  |  05:52  |  06:52  |  07:52  |  08:52  |  09:52  |  10:52  |  11:52  |  12:52  |  13:52  |  14:52  |  15:52  |  16:52  |  17:52  |  18:52  |  19:52  |  20:52  |  21:52  |  22:52  |  23:52  |  \n",
      "00:53  |  01:53  |  02:53  |  03:53  |  04:53  |  05:53  |  06:53  |  07:53  |  08:53  |  09:53  |  10:53  |  11:53  |  12:53  |  13:53  |  14:53  |  15:53  |  16:53  |  17:53  |  18:53  |  19:53  |  20:53  |  21:53  |  22:53  |  23:53  |  \n",
      "00:54  |  01:54  |  02:54  |  03:54  |  04:54  |  05:54  |  06:54  |  07:54  |  08:54  |  09:54  |  10:54  |  11:54  |  12:54  |  13:54  |  14:54  |  15:54  |  16:54  |  17:54  |  18:54  |  19:54  |  20:54  |  21:54  |  22:54  |  23:54  |  \n",
      "00:55  |  01:55  |  02:55  |  03:55  |  04:55  |  05:55  |  06:55  |  07:55  |  08:55  |  09:55  |  10:55  |  11:55  |  12:55  |  13:55  |  14:55  |  15:55  |  16:55  |  17:55  |  18:55  |  19:55  |  20:55  |  21:55  |  22:55  |  23:55  |  \n",
      "00:56  |  01:56  |  02:56  |  03:56  |  04:56  |  05:56  |  06:56  |  07:56  |  08:56  |  09:56  |  10:56  |  11:56  |  12:56  |  13:56  |  14:56  |  15:56  |  16:56  |  17:56  |  18:56  |  19:56  |  20:56  |  21:56  |  22:56  |  23:56  |  \n",
      "00:57  |  01:57  |  02:57  |  03:57  |  04:57  |  05:57  |  06:57  |  07:57  |  08:57  |  09:57  |  10:57  |  11:57  |  12:57  |  13:57  |  14:57  |  15:57  |  16:57  |  17:57  |  18:57  |  19:57  |  20:57  |  21:57  |  22:57  |  23:57  |  \n",
      "00:58  |  01:58  |  02:58  |  03:58  |  04:58  |  05:58  |  06:58  |  07:58  |  08:58  |  09:58  |  10:58  |  11:58  |  12:58  |  13:58  |  14:58  |  15:58  |  16:58  |  17:58  |  18:58  |  19:58  |  20:58  |  21:58  |  22:58  |  23:58  |  \n",
      "00:59  |  01:59  |  02:59  |  03:59  |  04:59  |  05:59  |  06:59  |  07:59  |  08:59  |  09:59  |  10:59  |  11:59  |  12:59  |  13:59  |  14:59  |  15:59  |  16:59  |  17:59  |  18:59  |  19:59  |  20:59  |  21:59  |  22:59  |  23:59  |  \n"
     ]
    }
   ],
   "source": [
    "for m in range(60):\n",
    "    for h in range(24):\n",
    "            print(f\"{h:02d}:{m:02d}\", end=\"  |  \")\n",
    "    print(\"\")"
   ]
  },
  {
   "cell_type": "markdown",
   "metadata": {
    "deletable": false,
    "editable": false,
    "run_control": {
     "frozen": true
    }
   },
   "source": [
    "## Oppgave c: frivillig"
   ]
  },
  {
   "cell_type": "markdown",
   "metadata": {
    "deletable": false,
    "run_control": {
     "frozen": true
    }
   },
   "source": [
    "Bruk doble løkker til å lage en funksjon som returnerer alle tallene i den lille gangetabellen, dvs. lag to for-løkker opp til 11 og multipliser variabelen x fra den ene løkken med variabelen y fra den andre løkken og bygg det på en indre streng i den innerste løkken. Du trenger ikke å tenke på formatet til utskriften.\n",
    "\n",
    "Eksempel på kjøring:\n",
    "\n",
    "```python\n",
    "print(gangetabellen())\n",
    "1\n",
    "2\n",
    "3\n",
    "4\n",
    "5\n",
    ".\n",
    ".\n",
    ".\n",
    "60\n",
    "70\n",
    "80\n",
    "90\n",
    "100\n",
    "```\n",
    "***Skriv koden din her:***"
   ]
  },
  {
   "cell_type": "code",
   "execution_count": null,
   "metadata": {
    "ExecuteTime": {
     "end_time": "2019-07-02T13:22:00.046861Z",
     "start_time": "2019-07-02T13:22:00.042947Z"
    }
   },
   "outputs": [],
   "source": [
    "\n",
    "            "
   ]
  },
  {
   "cell_type": "markdown",
   "metadata": {
    "deletable": false,
    "run_control": {
     "frozen": true
    }
   },
   "source": [
    "**Bonus**: Forsøk å legg inn \"\\n\" etter den innerste løkken i c) har kjørt (dvs. på samme innrykk som innerste for, men nedenfor linjen hvor inner_string blir utvidet med tall. Legg også til et mellomrom etter str(i*j)'  ' på slutten av print-funksjonen som printer ut tallene. Ser du nå at det ligner mer på en gangetabell?"
   ]
  },
  {
   "cell_type": "code",
   "execution_count": null,
   "metadata": {},
   "outputs": [],
   "source": []
  }
 ],
 "metadata": {
  "celltoolbar": "Edit Metadata",
  "kernelspec": {
   "display_name": "Python 3.9.12 ('SmartHouseMaster')",
   "language": "python",
   "name": "python3"
  },
  "language_info": {
   "codemirror_mode": {
    "name": "ipython",
    "version": 3
   },
   "file_extension": ".py",
   "mimetype": "text/x-python",
   "name": "python",
   "nbconvert_exporter": "python",
   "pygments_lexer": "ipython3",
   "version": "3.10.11"
  },
  "toc": {
   "base_numbering": 1,
   "nav_menu": {},
   "number_sections": false,
   "sideBar": true,
   "skip_h1_title": false,
   "title_cell": "Table of Contents",
   "title_sidebar": "Contents",
   "toc_cell": false,
   "toc_position": {},
   "toc_section_display": true,
   "toc_window_display": false
  },
  "vscode": {
   "interpreter": {
    "hash": "53b29c5bb29b0e4a11959d726fa093ba7b17a1c34d9f75eec3a80fb5fbaf0624"
   }
  }
 },
 "nbformat": 4,
 "nbformat_minor": 2
}
