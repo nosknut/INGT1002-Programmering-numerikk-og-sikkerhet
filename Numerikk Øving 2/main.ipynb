{
 "cells": [
  {
   "cell_type": "code",
   "execution_count": 1,
   "metadata": {},
   "outputs": [],
   "source": [
    "# Source: https://patrickwalls.github.io/mathematicalpython/root-finding/newton/\n",
    "def newton(f,Df,x0,epsilon,max_iter):\n",
    "    '''Approximate solution of f(x)=0 by Newton's method.\n",
    "\n",
    "    Parameters\n",
    "    ----------\n",
    "    f : function\n",
    "        Function for which we are searching for a solution f(x)=0.\n",
    "    Df : function\n",
    "        Derivative of f(x).\n",
    "    x0 : number\n",
    "        Initial guess for a solution f(x)=0.\n",
    "    epsilon : number\n",
    "        Stopping criteria is abs(f(x)) < epsilon.\n",
    "    max_iter : integer\n",
    "        Maximum number of iterations of Newton's method.\n",
    "\n",
    "    Returns\n",
    "    -------\n",
    "    xn : number\n",
    "        Implement Newton's method: compute the linear approximation\n",
    "        of f(x) at xn and find x intercept by the formula\n",
    "            x = xn - f(xn)/Df(xn)\n",
    "        Continue until abs(f(xn)) < epsilon and return xn.\n",
    "        If Df(xn) == 0, return None. If the number of iterations\n",
    "        exceeds max_iter, then return None.\n",
    "\n",
    "    Examples\n",
    "    --------\n",
    "    >>> f = lambda x: x**2 - x - 1\n",
    "    >>> Df = lambda x: 2*x - 1\n",
    "    >>> newton(f,Df,1,1e-8,10)\n",
    "    Found solution after 5 iterations.\n",
    "    1.618033988749989\n",
    "    '''\n",
    "    xn = x0\n",
    "    for n in range(0,max_iter):\n",
    "        fxn = f(xn)\n",
    "        if abs(fxn) < epsilon:\n",
    "            print('Found solution after',n,'iterations.')\n",
    "            return xn\n",
    "        Dfxn = Df(xn)\n",
    "        if Dfxn == 0:\n",
    "            print('Zero derivative. No solution found.')\n",
    "            return None\n",
    "        xn = xn - fxn/Dfxn\n",
    "    print('Exceeded maximum iterations. No solution found.')\n",
    "    return None"
   ]
  },
  {
   "cell_type": "code",
   "execution_count": 2,
   "metadata": {},
   "outputs": [
    {
     "ename": "SyntaxError",
     "evalue": "invalid syntax (1896857508.py, line 1)",
     "output_type": "error",
     "traceback": [
      "\u001b[1;36m  Cell \u001b[1;32mIn [2], line 1\u001b[1;36m\u001b[0m\n\u001b[1;33m    newton(lambda x: (x-2)**2+3,lambda x:,x0,epsilon,max_iter)\u001b[0m\n\u001b[1;37m                                         ^\u001b[0m\n\u001b[1;31mSyntaxError\u001b[0m\u001b[1;31m:\u001b[0m invalid syntax\n"
     ]
    }
   ],
   "source": [
    "newton(lambda x: (x-2)**2+3,lambda x:,x0,epsilon,max_iter)"
   ]
  },
  {
   "cell_type": "markdown",
   "metadata": {},
   "source": [
    "# 1"
   ]
  },
  {
   "cell_type": "code",
   "execution_count": 1,
   "metadata": {},
   "outputs": [],
   "source": [
    "def forward_difference(f, x, h):\n",
    "    return (f(x+h)-f(x))/h"
   ]
  },
  {
   "cell_type": "code",
   "execution_count": 2,
   "metadata": {},
   "outputs": [
    {
     "data": {
      "text/plain": [
       "-1.900000000000004"
      ]
     },
     "execution_count": 2,
     "metadata": {},
     "output_type": "execute_result"
    }
   ],
   "source": [
    "forward_difference(lambda x: (x-2)**2+1, 2, 0.1)"
   ]
  },
  {
   "cell_type": "markdown",
   "metadata": {},
   "source": [
    "# 2"
   ]
  },
  {
   "cell_type": "code",
   "execution_count": 2,
   "metadata": {},
   "outputs": [],
   "source": [
    "def center_difference(f, x, h):\n",
    "    return (f(x+h/2)-f(x-h/2))/(h)"
   ]
  },
  {
   "cell_type": "code",
   "execution_count": 3,
   "metadata": {},
   "outputs": [
    {
     "data": {
      "text/plain": [
       "-3.9999999999999947"
      ]
     },
     "execution_count": 3,
     "metadata": {},
     "output_type": "execute_result"
    }
   ],
   "source": [
    "center_difference(lambda x: (x-3)**2+3, 1, 0.1)"
   ]
  },
  {
   "cell_type": "markdown",
   "metadata": {},
   "source": [
    "# 5"
   ]
  },
  {
   "cell_type": "code",
   "execution_count": 4,
   "metadata": {},
   "outputs": [],
   "source": [
    "import numpy as np"
   ]
  },
  {
   "cell_type": "code",
   "execution_count": 15,
   "metadata": {},
   "outputs": [],
   "source": [
    "def trapezoidal_integration(f, a, b, n):\n",
    "    xs = np.linspace(a,b,n+1)\n",
    "    ys = f(xs)\n",
    "    h = (b-a)/n\n",
    "    s = 0\n",
    "    for i in range(0,n):\n",
    "        s += ys[i]*h + (ys[i+1]-ys[i])*h/2\n",
    "    return s\n",
    "    \n",
    "    "
   ]
  },
  {
   "cell_type": "code",
   "execution_count": 16,
   "metadata": {},
   "outputs": [],
   "source": [
    "def L(df, a, b, n):\n",
    "    f = lambda x: np.sqrt(1+df(x)**2)\n",
    "    return trapezoidal_integration(f, a, b, n)"
   ]
  },
  {
   "cell_type": "code",
   "execution_count": 17,
   "metadata": {},
   "outputs": [
    {
     "data": {
      "text/plain": [
       "18.593263104784327"
      ]
     },
     "execution_count": 17,
     "metadata": {},
     "output_type": "execute_result"
    }
   ],
   "source": [
    "L(lambda x: 2*4*x, -1/2, 2, 3)"
   ]
  },
  {
   "cell_type": "code",
   "execution_count": 18,
   "metadata": {},
   "outputs": [
    {
     "data": {
      "text/plain": [
       "17.410405006447387"
      ]
     },
     "execution_count": 18,
     "metadata": {},
     "output_type": "execute_result"
    }
   ],
   "source": [
    "L(lambda x: 2*4*x, -1/2, 2, 100)"
   ]
  },
  {
   "cell_type": "markdown",
   "metadata": {},
   "source": [
    "# 7"
   ]
  },
  {
   "cell_type": "code",
   "execution_count": 19,
   "metadata": {},
   "outputs": [],
   "source": [
    "def simpson(f, a, b, n):\n",
    "    # NB! 2 intervals means 3 points framing 2 regions\n",
    "    xs = np.linspace(a,b,n+1)\n",
    "    ys = f(xs)\n",
    "    alternating = np.array([(4 if (i % 2 == 0) else 2) for i in range(0, n-1)])\n",
    "    multipliers = np.array([1, *alternating, 1])\n",
    "    return (b-a)/(3*n) * sum(multipliers*ys)\n",
    "    "
   ]
  },
  {
   "cell_type": "code",
   "execution_count": 20,
   "metadata": {},
   "outputs": [
    {
     "data": {
      "text/plain": [
       "2.333333333333333"
      ]
     },
     "execution_count": 20,
     "metadata": {},
     "output_type": "execute_result"
    }
   ],
   "source": [
    "K = 2\n",
    "b = 1\n",
    "simpson(lambda x: K+x**2, 0, b, 2)"
   ]
  },
  {
   "cell_type": "markdown",
   "metadata": {},
   "source": [
    "# 8"
   ]
  },
  {
   "cell_type": "code",
   "execution_count": 21,
   "metadata": {},
   "outputs": [
    {
     "data": {
      "text/plain": [
       "-4.440892098500626e-16"
      ]
     },
     "execution_count": 21,
     "metadata": {},
     "output_type": "execute_result"
    }
   ],
   "source": [
    "simpson(lambda x: K+x**2, 0, b, 2) - 7/3"
   ]
  },
  {
   "cell_type": "markdown",
   "metadata": {},
   "source": [
    "# 9"
   ]
  },
  {
   "cell_type": "code",
   "execution_count": 12,
   "metadata": {},
   "outputs": [
    {
     "name": "stdout",
     "output_type": "stream",
     "text": [
      "2 0.12673058447767174\n",
      "4 0.11329430060213976\n",
      "6 0.11164750032337507\n",
      "8 0.11127892159242343\n"
     ]
    }
   ],
   "source": [
    "f = lambda x: 6/(6*x**3-2*x+5)\n",
    "print(2, simpson(f, 2, 6, 2))\n",
    "print(4, simpson(f, 2, 6, 4))\n",
    "print(6, simpson(f, 2, 6, 6))\n",
    "print(8, simpson(f, 2, 6, 8))"
   ]
  },
  {
   "cell_type": "markdown",
   "metadata": {},
   "source": [
    "# 13"
   ]
  },
  {
   "cell_type": "code",
   "execution_count": 24,
   "metadata": {},
   "outputs": [
    {
     "name": "stdout",
     "output_type": "stream",
     "text": [
      "[0.5833, 4.2833, 3.0136]\n",
      "[-2.6687, 4.331, 2.4527]\n",
      "[-2.5563, 4.4207, 2.5302]\n",
      "[-2.628, 4.4195, 2.5164]\n",
      "[-2.6238, 4.4215, 2.5184]\n",
      "[-2.6255, 4.4214, 2.5181]\n",
      "[-2.6253, 4.4215, 2.5181]\n",
      "[-2.6254, 4.4214, 2.5181]\n",
      "[-2.6254, 4.4215, 2.5181]\n",
      "[-2.6254, 4.4215, 2.5181]\n"
     ]
    }
   ],
   "source": [
    "import numpy as np\n",
    "A = np.array([\n",
    "    [12.0, 7.0, 3.0],\n",
    "    [1.0, 5.0, 1.0],\n",
    "    [2.0, 7.0, -11.0],\n",
    "])\n",
    "b=np.array([7.0, 22.0, -2.0])\n",
    "# NB! x[i] maintains its integer datatype on float assignment\n",
    "x=np.array([0.0, 0.0, 0.0])\n",
    "iterasjoner = 10\n",
    "n = np.shape(A)[0]\n",
    "for k in range(0,iterasjoner):\n",
    "    for i in range(0,n):\n",
    "        x[i] = b[i]\n",
    "        for j in range(0,n):\n",
    "            if i != j:\n",
    "                x[i] = x[i] - A[i,j]*x[j]\n",
    "        x[i] = x[i]/A[i,i]\n",
    "    print([round(i,4) for i in x])"
   ]
  },
  {
   "cell_type": "markdown",
   "metadata": {},
   "source": [
    "# 14"
   ]
  },
  {
   "cell_type": "code",
   "execution_count": 26,
   "metadata": {},
   "outputs": [
    {
     "name": "stdout",
     "output_type": "stream",
     "text": [
      "[-2.6254, 4.4215, 2.5181]\n"
     ]
    }
   ],
   "source": [
    "print([round(i,4) for i in np.linalg.solve(A,b)])"
   ]
  }
 ],
 "metadata": {
  "kernelspec": {
   "display_name": "Python 3",
   "language": "python",
   "name": "python3"
  },
  "language_info": {
   "codemirror_mode": {
    "name": "ipython",
    "version": 3
   },
   "file_extension": ".py",
   "mimetype": "text/x-python",
   "name": "python",
   "nbconvert_exporter": "python",
   "pygments_lexer": "ipython3",
   "version": "3.10.11"
  }
 },
 "nbformat": 4,
 "nbformat_minor": 2
}
