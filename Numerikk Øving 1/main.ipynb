{
 "cells": [
  {
   "cell_type": "code",
   "execution_count": 29,
   "metadata": {},
   "outputs": [],
   "source": [
    "import numpy as np"
   ]
  },
  {
   "cell_type": "markdown",
   "metadata": {},
   "source": [
    "# 1"
   ]
  },
  {
   "cell_type": "code",
   "execution_count": 30,
   "metadata": {},
   "outputs": [
    {
     "data": {
      "text/plain": [
       "0.875"
      ]
     },
     "execution_count": 30,
     "metadata": {},
     "output_type": "execute_result"
    }
   ],
   "source": [
    "7/8"
   ]
  },
  {
   "cell_type": "code",
   "execution_count": 101,
   "metadata": {},
   "outputs": [],
   "source": [
    "def get_binary_fraction(x, n):\n",
    "    binary = []\n",
    "    decimals = []\n",
    "    x -= int(x)\n",
    "    for _ in range(n):\n",
    "        if x == 0:\n",
    "            break\n",
    "        decimals.append(x)\n",
    "        x *= 2\n",
    "        if (x >= 1):\n",
    "            binary.append(\"1\")\n",
    "            x -= int(x)\n",
    "        else:\n",
    "            binary.append(\"0\")\n",
    "    return (\"\".join(binary), decimals)"
   ]
  },
  {
   "cell_type": "code",
   "execution_count": 102,
   "metadata": {},
   "outputs": [
    {
     "data": {
      "text/plain": [
       "('111', [0.875, 0.75, 0.5])"
      ]
     },
     "execution_count": 102,
     "metadata": {},
     "output_type": "execute_result"
    }
   ],
   "source": [
    "get_binary_fraction(7/8, 20)"
   ]
  },
  {
   "cell_type": "markdown",
   "metadata": {},
   "source": [
    "# 2"
   ]
  },
  {
   "cell_type": "code",
   "execution_count": 103,
   "metadata": {},
   "outputs": [
    {
     "data": {
      "text/plain": [
       "('001001000011111',\n",
       " [0.14159265358979312,\n",
       "  0.28318530717958623,\n",
       "  0.5663706143591725,\n",
       "  0.13274122871834493,\n",
       "  0.26548245743668986,\n",
       "  0.5309649148733797,\n",
       "  0.061929829746759424,\n",
       "  0.12385965949351885,\n",
       "  0.2477193189870377,\n",
       "  0.4954386379740754,\n",
       "  0.9908772759481508,\n",
       "  0.9817545518963016,\n",
       "  0.9635091037926031,\n",
       "  0.9270182075852063,\n",
       "  0.8540364151704125])"
      ]
     },
     "execution_count": 103,
     "metadata": {},
     "output_type": "execute_result"
    }
   ],
   "source": [
    "get_binary_fraction(np.pi, 15)"
   ]
  },
  {
   "cell_type": "markdown",
   "metadata": {},
   "source": [
    "# 3"
   ]
  },
  {
   "cell_type": "code",
   "execution_count": 109,
   "metadata": {},
   "outputs": [],
   "source": [
    "def binary_fraction_to_dec(first_half, second_half):\n",
    "    dec = 0\n",
    "    for i, x in enumerate(reversed(first_half)):\n",
    "        dec += int(x)*2**(i)\n",
    "    for i, x in enumerate(second_half):\n",
    "        dec += int(x)*2**(-(i+1))\n",
    "    return dec"
   ]
  },
  {
   "cell_type": "code",
   "execution_count": 118,
   "metadata": {},
   "outputs": [
    {
     "data": {
      "text/plain": [
       "7.428571428571429"
      ]
     },
     "execution_count": 118,
     "metadata": {},
     "output_type": "execute_result"
    }
   ],
   "source": [
    "binary_fraction_to_dec(\"111\", \"0\"+\"110\"*1000)"
   ]
  },
  {
   "cell_type": "code",
   "execution_count": 138,
   "metadata": {},
   "outputs": [],
   "source": [
    "def find_fraction(x, sensitivity):\n",
    "    numerator = x\n",
    "    denomenator = 1\n",
    "    while (numerator - int(numerator)) >= sensitivity:\n",
    "        numerator += x\n",
    "        denomenator += 1\n",
    "        print(numerator, \"/\", denomenator)\n",
    "    return (numerator, denomenator)"
   ]
  },
  {
   "cell_type": "code",
   "execution_count": 139,
   "metadata": {},
   "outputs": [
    {
     "name": "stdout",
     "output_type": "stream",
     "text": [
      "14.857142857142858 / 2\n",
      "22.285714285714285 / 3\n",
      "29.714285714285715 / 4\n",
      "37.142857142857146 / 5\n",
      "44.57142857142858 / 6\n",
      "52.00000000000001 / 7\n"
     ]
    },
    {
     "data": {
      "text/plain": [
       "(52.00000000000001, 7)"
      ]
     },
     "execution_count": 139,
     "metadata": {},
     "output_type": "execute_result"
    }
   ],
   "source": [
    "find_fraction(binary_fraction_to_dec(\"111\", \"0\"+\"110\"*1000), 0.00001)"
   ]
  },
  {
   "cell_type": "markdown",
   "metadata": {},
   "source": [
    "# 6"
   ]
  },
  {
   "cell_type": "code",
   "execution_count": 8,
   "metadata": {},
   "outputs": [
    {
     "name": "stdout",
     "output_type": "stream",
     "text": [
      "2.0800838200375438\n"
     ]
    }
   ],
   "source": [
    "import numpy as np\n",
    "\n",
    "def halvering_solve(f, a,b, tol):\n",
    "    #Din kode her :) --->\n",
    "    m = 0\n",
    "    \n",
    "    while True:\n",
    "        m = (a+b)/2\n",
    "        val = f(m)\n",
    "        \n",
    "        if abs(val) <= tol:\n",
    "            break\n",
    "        if (int(f(a)/abs(f(a))) != int(f(m)/abs(f(m)))):\n",
    "            # Sign is different in the a-m interval\n",
    "            b = m\n",
    "        else:\n",
    "            # Sign is different in the m-b interval\n",
    "            a = m\n",
    "        \n",
    "    return m#<---------\n",
    " \n",
    "def f(x): #Hvilken funksjon f er det du skal finne roten av?\n",
    "    return x**3-9\n",
    "maks_feil = 0.0000001#Hva blir maks feil om x_sol skal være riktig med minst 6 desimaler?\n",
    "x_sol = halvering_solve(f,-20,40, maks_feil) #Hva må startintervallet være?\n",
    "print(x_sol)\n"
   ]
  },
  {
   "cell_type": "markdown",
   "metadata": {},
   "source": [
    "# 7"
   ]
  },
  {
   "cell_type": "code",
   "execution_count": null,
   "metadata": {},
   "outputs": [],
   "source": [
    "import numpy as np\n",
    "\n",
    "def naive_gauss(A,b):\n",
    "   n,m = np.shape(A)\n",
    "   S = np.zeros((n,n+1))\n",
    "   S[:,0:n] = A\n",
    "   S[:,-1] = b\n",
    "   for j in range(n-1):\n",
    "      for i in range(j+1,n):\n",
    "         mult = S[i,j]/S[j,j]\n",
    "         # S[i,:] = S[i,:]-mult*S[j,:]\n",
    "         # S[i,j]=0.0\n",
    "         for k in range(j,n+1):\n",
    "            S[i,k] = S[i,k]-mult*S[j,k]\n",
    "\n",
    "   return S[:,0:n],S[:,-1]\n",
    "   \n",
    "#Forslag til fremgangsmåte til definere A, b \n",
    "#-Viser noen nyttige np-funksjoner\n",
    "A = np.array([ \n",
    "    [1,2,-1],\n",
    "    [0,3,1],\n",
    "    [2,-1,1],\n",
    "])\n",
    "A=A.reshape((3,3))\n",
    "b = np.array([2,4,2]).T\n",
    "Ar, br = naive_gauss(A,b)"
   ]
  }
 ],
 "metadata": {
  "kernelspec": {
   "display_name": "Python 3",
   "language": "python",
   "name": "python3"
  },
  "language_info": {
   "codemirror_mode": {
    "name": "ipython",
    "version": 3
   },
   "file_extension": ".py",
   "mimetype": "text/x-python",
   "name": "python",
   "nbconvert_exporter": "python",
   "pygments_lexer": "ipython3",
   "version": "3.10.11"
  }
 },
 "nbformat": 4,
 "nbformat_minor": 2
}
